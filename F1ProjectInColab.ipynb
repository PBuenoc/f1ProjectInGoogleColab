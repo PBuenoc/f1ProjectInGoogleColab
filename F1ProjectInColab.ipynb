{
  "nbformat": 4,
  "nbformat_minor": 0,
  "metadata": {
    "colab": {
      "provenance": [],
      "collapsed_sections": [
        "pU2ZlM2mDLm9",
        "pqQ0lLJ4DhHc",
        "GBEY6uMFEmT1",
        "2KISlZ_wXKHm",
        "VVX-eE-JR4fT"
      ],
      "mount_file_id": "1DPKWoCrpcvjgnP6TfwU0IyPylzzSBonH",
      "authorship_tag": "ABX9TyMraqwO/v114MIvYuWeEpzh",
      "include_colab_link": true
    },
    "kernelspec": {
      "name": "python3",
      "display_name": "Python 3"
    },
    "language_info": {
      "name": "python"
    }
  },
  "cells": [
    {
      "cell_type": "markdown",
      "metadata": {
        "id": "view-in-github",
        "colab_type": "text"
      },
      "source": [
        "<a href=\"https://colab.research.google.com/github/PBuenoc/f1ProjectInGoogleColab/blob/main/F1ProjectInColab.ipynb\" target=\"_parent\"><img src=\"https://colab.research.google.com/assets/colab-badge.svg\" alt=\"Open In Colab\"/></a>"
      ]
    },
    {
      "cell_type": "markdown",
      "source": [
        "# Prepare spark environment"
      ],
      "metadata": {
        "id": "pU2ZlM2mDLm9"
      }
    },
    {
      "cell_type": "code",
      "source": [
        "!apt-get install openjdk-8-jdk-headless -qq > /dev/null\n",
        "!wget -q https://archive.apache.org/dist/spark/spark-3.1.2/spark-3.1.2-bin-hadoop2.7.tgz\n",
        "!tar xf spark-3.1.2-bin-hadoop2.7.tgz\n",
        "!pip install -q findspark"
      ],
      "metadata": {
        "id": "Gw3cNTCrg1dN"
      },
      "execution_count": 1,
      "outputs": []
    },
    {
      "cell_type": "code",
      "source": [
        "import os\n",
        "os.environ[\"JAVA_HOME\"] = \"/usr/lib/jvm/java-8-openjdk-amd64\"\n",
        "os.environ[\"SPARK_HOME\"] = \"/content/spark-3.1.2-bin-hadoop2.7\""
      ],
      "metadata": {
        "id": "ANLqmU37Lbbw"
      },
      "execution_count": 2,
      "outputs": []
    },
    {
      "cell_type": "code",
      "source": [
        "import findspark\n",
        "findspark.init()"
      ],
      "metadata": {
        "id": "1WR8q-sBL-nP"
      },
      "execution_count": 3,
      "outputs": []
    },
    {
      "cell_type": "code",
      "source": [
        "from pyspark.sql import SparkSession\n",
        "spark = SparkSession.builder.master('local[*]').appName(\"Spark\").getOrCreate()"
      ],
      "metadata": {
        "id": "NEpuIzesMP5X"
      },
      "execution_count": 4,
      "outputs": []
    },
    {
      "cell_type": "markdown",
      "source": [
        "# Ingestion"
      ],
      "metadata": {
        "id": "er-D0hJLN3MP"
      }
    },
    {
      "cell_type": "markdown",
      "source": [
        "## Ingest csv files"
      ],
      "metadata": {
        "id": "NSE1ZPIjXAKu"
      }
    },
    {
      "cell_type": "markdown",
      "source": [
        "### Ingest circuits.csv file"
      ],
      "metadata": {
        "id": "pqQ0lLJ4DhHc"
      }
    },
    {
      "cell_type": "code",
      "source": [
        "circuits_df = spark.read.csv('/content/drive/MyDrive/formula1Project/data/raw/circuits2.csv',inferSchema=True, header=True, sep=';')"
      ],
      "metadata": {
        "id": "nFEAMzx0M2lY"
      },
      "execution_count": null,
      "outputs": []
    },
    {
      "cell_type": "markdown",
      "source": [
        "#### Select only the columns required"
      ],
      "metadata": {
        "id": "1PS5_CoBD2Q0"
      }
    },
    {
      "cell_type": "code",
      "source": [
        "circuits_df = circuits_df.select('circuitId', 'circuitRef', 'name', 'location', 'country', 'lat', 'lng', 'alt')"
      ],
      "metadata": {
        "id": "xuxEzkvjr4SG"
      },
      "execution_count": null,
      "outputs": []
    },
    {
      "cell_type": "markdown",
      "source": [
        "#### Renamed the columns as required"
      ],
      "metadata": {
        "id": "jSIcGi-9EBIl"
      }
    },
    {
      "cell_type": "code",
      "source": [
        "circuits_df = circuits_df.withColumnRenamed('circuitId', 'circuit_id') \\\n",
        ".withColumnRenamed('circuitRef', 'circuit_ref') \\\n",
        ".withColumnRenamed('lat','latitude') \\\n",
        ".withColumnRenamed('lng','longitude') \\\n",
        ".withColumnRenamed('alt','altitude')"
      ],
      "metadata": {
        "id": "B7Wki6VTpGxd"
      },
      "execution_count": null,
      "outputs": []
    },
    {
      "cell_type": "markdown",
      "source": [
        "#### Add ingestion_date column"
      ],
      "metadata": {
        "id": "gwLS7o4CEFSE"
      }
    },
    {
      "cell_type": "code",
      "source": [
        "from pyspark.sql.functions import current_timestamp"
      ],
      "metadata": {
        "id": "_246Ktopu5vH"
      },
      "execution_count": null,
      "outputs": []
    },
    {
      "cell_type": "code",
      "source": [
        "circuits_df = circuits_df.withColumn('ingestion_date', current_timestamp())"
      ],
      "metadata": {
        "id": "kPowGTxWvGJX"
      },
      "execution_count": null,
      "outputs": []
    },
    {
      "cell_type": "markdown",
      "source": [
        "#### Specify the types as required"
      ],
      "metadata": {
        "id": "o0grVm4wELhM"
      }
    },
    {
      "cell_type": "code",
      "source": [
        "circuits_df = circuits_df.withColumn('latitude', circuits_df['latitude'].cast('double')) \\\n",
        ".withColumn('longitude', circuits_df['longitude'].cast('double')) \\\n",
        ".withColumn('altitude', circuits_df['altitude'].cast('integer'))"
      ],
      "metadata": {
        "id": "lDS9NPySwWnA"
      },
      "execution_count": null,
      "outputs": []
    },
    {
      "cell_type": "markdown",
      "source": [
        "#### Write the data in parquet format on processed folder"
      ],
      "metadata": {
        "id": "2aE6W-WrEPcN"
      }
    },
    {
      "cell_type": "code",
      "source": [
        "circuits_df.write.mode('overwrite').parquet('/content/drive/MyDrive/formula1Project/data/processed/circuits')"
      ],
      "metadata": {
        "id": "p82B_aXZxP8w"
      },
      "execution_count": null,
      "outputs": []
    },
    {
      "cell_type": "markdown",
      "source": [
        "### Ingest races.csv"
      ],
      "metadata": {
        "id": "GBEY6uMFEmT1"
      }
    },
    {
      "cell_type": "code",
      "source": [
        "races_df = spark.read.csv('/content/drive/MyDrive/formula1Project/data/raw/races2.csv', header=True, inferSchema=True, sep=';')"
      ],
      "metadata": {
        "id": "ECm8bxcF22M1"
      },
      "execution_count": null,
      "outputs": []
    },
    {
      "cell_type": "markdown",
      "source": [
        "#### Add the required columns"
      ],
      "metadata": {
        "id": "3rwT5-vvEqIl"
      }
    },
    {
      "cell_type": "code",
      "source": [
        "from pyspark.sql.functions import col, concat, lit"
      ],
      "metadata": {
        "id": "ud7mgeJI9NB4"
      },
      "execution_count": null,
      "outputs": []
    },
    {
      "cell_type": "code",
      "source": [
        "races_df = races_df.withColumn('ingestion_date', current_timestamp()) \\\n",
        ".withColumn('race_timestamp',concat(col('date'), lit(' '), col('time')))"
      ],
      "metadata": {
        "id": "hMjY_hA28iAA"
      },
      "execution_count": null,
      "outputs": []
    },
    {
      "cell_type": "markdown",
      "source": [
        "#### Select only the required columns"
      ],
      "metadata": {
        "id": "Kath6f4HExGf"
      }
    },
    {
      "cell_type": "code",
      "source": [
        "races_df = races_df.select(col('raceId').alias('race_id'),\n",
        "                           col('year').alias('race_year'), \n",
        "                           col('round'), \n",
        "                           col('circuitId').alias('circuit_id'),\n",
        "                           col('name'),\n",
        "                           col('ingestion_date'),\n",
        "                           col('race_timestamp'))"
      ],
      "metadata": {
        "id": "DoFFb-3O9igY"
      },
      "execution_count": null,
      "outputs": []
    },
    {
      "cell_type": "markdown",
      "source": [
        "#### Write the data in parquet format on processed folder with partitionBy"
      ],
      "metadata": {
        "id": "rb2vc9UUE4MF"
      }
    },
    {
      "cell_type": "code",
      "source": [
        "races_df.write.mode('overwrite').partitionBy('race_year').parquet('/content/drive/MyDrive/formula1Project/data/processed/races')"
      ],
      "metadata": {
        "id": "o5iJaaKZAFwZ"
      },
      "execution_count": null,
      "outputs": []
    },
    {
      "cell_type": "code",
      "source": [
        "spark.read.parquet('/content/drive/MyDrive/formula1Project/data/processed/races').show()"
      ],
      "metadata": {
        "colab": {
          "base_uri": "https://localhost:8080/"
        },
        "id": "GKBDWlyTfEz5",
        "outputId": "5dc0ad64-eb12-4348-a4c1-c8d9d541c28f"
      },
      "execution_count": null,
      "outputs": [
        {
          "output_type": "stream",
          "name": "stdout",
          "text": [
            "+-------+-----+----------+--------------------+--------------------+-------------------+---------+\n",
            "|race_id|round|circuit_id|                name|      ingestion_date|     race_timestamp|race_year|\n",
            "+-------+-----+----------+--------------------+--------------------+-------------------+---------+\n",
            "|   1053|    2|        21|Emilia Romagna Gr...|2023-03-23 21:23:...|18/04/2021 13:00:00|     2021|\n",
            "|   1052|    1|         3|  Bahrain Grand Prix|2023-03-23 21:23:...|28/03/2021 15:00:00|     2021|\n",
            "|   1051|   21|         1|Australian Grand ...|2023-03-23 21:23:...|21/11/2021 06:00:00|     2021|\n",
            "|   1054|    3|        20|                 TBC|2023-03-23 21:23:...|      02/05/2021 \\N|     2021|\n",
            "|   1055|    4|         4|  Spanish Grand Prix|2023-03-23 21:23:...|09/05/2021 13:00:00|     2021|\n",
            "|   1056|    5|         6|   Monaco Grand Prix|2023-03-23 21:23:...|23/05/2021 13:00:00|     2021|\n",
            "|   1057|    6|        73|Azerbaijan Grand ...|2023-03-23 21:23:...|06/06/2021 12:00:00|     2021|\n",
            "|   1058|    7|         7| Canadian Grand Prix|2023-03-23 21:23:...|13/06/2021 18:00:00|     2021|\n",
            "|   1059|    8|        34|   French Grand Prix|2023-03-23 21:23:...|27/06/2021 13:00:00|     2021|\n",
            "|   1060|    9|        70| Austrian Grand Prix|2023-03-23 21:23:...|04/07/2021 13:00:00|     2021|\n",
            "|   1061|   10|         9|  British Grand Prix|2023-03-23 21:23:...|18/07/2021 14:00:00|     2021|\n",
            "|   1062|   11|        11|Hungarian Grand Prix|2023-03-23 21:23:...|01/08/2021 13:00:00|     2021|\n",
            "|   1063|   12|        13|  Belgian Grand Prix|2023-03-23 21:23:...|29/08/2021 13:00:00|     2021|\n",
            "|   1064|   13|        39|    Dutch Grand Prix|2023-03-23 21:23:...|05/09/2021 13:00:00|     2021|\n",
            "|   1065|   14|        14|  Italian Grand Prix|2023-03-23 21:23:...|12/09/2021 13:00:00|     2021|\n",
            "|   1066|   15|        71|  Russian Grand Prix|2023-03-23 21:23:...|26/09/2021 12:00:00|     2021|\n",
            "|   1067|   16|        15|Singapore Grand Prix|2023-03-23 21:23:...|03/10/2021 12:00:00|     2021|\n",
            "|   1068|   17|        22| Japanese Grand Prix|2023-03-23 21:23:...|10/10/2021 05:00:00|     2021|\n",
            "|   1069|   18|        69|United States Gra...|2023-03-23 21:23:...|24/10/2021 19:00:00|     2021|\n",
            "|   1070|   19|        32|Mexico City Grand...|2023-03-23 21:23:...|31/10/2021 19:00:00|     2021|\n",
            "+-------+-----+----------+--------------------+--------------------+-------------------+---------+\n",
            "only showing top 20 rows\n",
            "\n"
          ]
        }
      ]
    },
    {
      "cell_type": "markdown",
      "source": [
        "## Ingest JSON files"
      ],
      "metadata": {
        "id": "2KISlZ_wXKHm"
      }
    },
    {
      "cell_type": "markdown",
      "source": [
        "### Ingest constructors.json"
      ],
      "metadata": {
        "id": "Io3qSwQPFGpF"
      }
    },
    {
      "cell_type": "code",
      "source": [
        "constructors_schema = \"constructorId INT, constructorRef STRING, name STRING, nationality STRING, url STRING\""
      ],
      "metadata": {
        "id": "znhIjqZxAyUK"
      },
      "execution_count": null,
      "outputs": []
    },
    {
      "cell_type": "code",
      "source": [
        "constructors_df = spark.read.json('/content/drive/MyDrive/formula1Project/data/raw/constructors.json', schema=constructors_schema)"
      ],
      "metadata": {
        "id": "VI6EffEcJe9I"
      },
      "execution_count": null,
      "outputs": []
    },
    {
      "cell_type": "markdown",
      "source": [
        "#### Drop unwanted columns from the dataframe"
      ],
      "metadata": {
        "id": "pz2VO1AmUns1"
      }
    },
    {
      "cell_type": "code",
      "source": [
        "constructors_df = constructors_df.drop(constructors_df.url)"
      ],
      "metadata": {
        "id": "mwpBOQRqPkuh"
      },
      "execution_count": null,
      "outputs": []
    },
    {
      "cell_type": "markdown",
      "source": [
        "#### Rename columns and add ingestion date"
      ],
      "metadata": {
        "id": "InVZnAnbVGaN"
      }
    },
    {
      "cell_type": "code",
      "source": [
        "constructors_df = constructors_df.withColumnRenamed('constructorId', 'constructor_id') \\\n",
        "                                .withColumnRenamed('constructorRef', 'constructor_ref') \\\n",
        "                                .withColumn('ingestion_date', current_timestamp())"
      ],
      "metadata": {
        "id": "UWsWWaHWVCoN"
      },
      "execution_count": null,
      "outputs": []
    },
    {
      "cell_type": "code",
      "source": [
        "constructors_df.write.mode('overwrite').parquet('/content/drive/MyDrive/formula1Project/data/processed/constructors')"
      ],
      "metadata": {
        "id": "sqQY6JI8VwO1"
      },
      "execution_count": null,
      "outputs": []
    },
    {
      "cell_type": "markdown",
      "source": [
        "### Ingest drivers.json - Nested JSON"
      ],
      "metadata": {
        "id": "Wo5I62IXXlZm"
      }
    },
    {
      "cell_type": "code",
      "source": [
        "from pyspark.sql.types import StructType, StructField, IntegerType, StringType, DateType"
      ],
      "metadata": {
        "id": "w-ikKCV20nEr"
      },
      "execution_count": null,
      "outputs": []
    },
    {
      "cell_type": "code",
      "source": [
        "name_schema = StructType(fields=[StructField(\"forename\", StringType(), True),\n",
        "                                 StructField(\"surname\", StringType(), True)\n",
        "  \n",
        "])"
      ],
      "metadata": {
        "id": "Pdtm98202UAl"
      },
      "execution_count": null,
      "outputs": []
    },
    {
      "cell_type": "code",
      "source": [
        "drivers_schema = StructType(fields=[StructField(\"driverId\", IntegerType(), False),\n",
        "                                    StructField(\"driverRef\", StringType(), True),\n",
        "                                    StructField(\"number\", IntegerType(), True),\n",
        "                                    StructField(\"code\", StringType(), True),\n",
        "                                    StructField(\"name\", name_schema),\n",
        "                                    StructField(\"dob\", DateType(), True),\n",
        "                                    StructField(\"nationality\", StringType(), True),\n",
        "                                    StructField(\"url\", StringType(), True)])"
      ],
      "metadata": {
        "id": "3sMG6t6Z2Wok"
      },
      "execution_count": null,
      "outputs": []
    },
    {
      "cell_type": "code",
      "source": [
        "drivers_df = spark.read \\\n",
        ".schema(drivers_schema) \\\n",
        ".json('/content/drive/MyDrive/formula1Project/data/raw/drivers.json')"
      ],
      "metadata": {
        "id": "8iimmyy12Y5N"
      },
      "execution_count": null,
      "outputs": []
    },
    {
      "cell_type": "code",
      "source": [
        "from google.colab import data_table"
      ],
      "metadata": {
        "id": "5hk-WAS8e_ZK"
      },
      "execution_count": null,
      "outputs": []
    },
    {
      "cell_type": "code",
      "source": [
        "from pyspark.sql.functions import col, concat, lit"
      ],
      "metadata": {
        "id": "unk4qAyZ62IX"
      },
      "execution_count": null,
      "outputs": []
    },
    {
      "cell_type": "code",
      "source": [
        "drivers_df = drivers_df.withColumnRenamed(\"driverId\", \"driver_id\") \\\n",
        "                                    .withColumnRenamed(\"driverRef\", \"driver_ref\") \\\n",
        "                                    .withColumn(\"name\", concat(col(\"name.forename\"), lit(\" \"), col(\"name.surname\")))"
      ],
      "metadata": {
        "id": "8Ou9pltF3y_1"
      },
      "execution_count": null,
      "outputs": []
    },
    {
      "cell_type": "code",
      "source": [
        "from pyspark.sql.functions import current_timestamp"
      ],
      "metadata": {
        "id": "7RHGFBTW5Frf"
      },
      "execution_count": null,
      "outputs": []
    },
    {
      "cell_type": "code",
      "source": [
        "drivers_df = drivers_df.withColumn('ingestion_date', current_timestamp())"
      ],
      "metadata": {
        "id": "rfD9HKDy684H"
      },
      "execution_count": null,
      "outputs": []
    },
    {
      "cell_type": "markdown",
      "source": [
        "#### Drop unwanted columns\n",
        "url \\\n",
        "name.forename \\\n",
        "name.surname \\"
      ],
      "metadata": {
        "id": "tDymPf-_776e"
      }
    },
    {
      "cell_type": "code",
      "source": [
        "drivers_df = drivers_df.drop('url')"
      ],
      "metadata": {
        "id": "EnKYPEih7Sdv"
      },
      "execution_count": null,
      "outputs": []
    },
    {
      "cell_type": "markdown",
      "source": [
        "#### Write the output to processed folder in parquet format\n"
      ],
      "metadata": {
        "id": "Sq57Q8XZ87Ir"
      }
    },
    {
      "cell_type": "code",
      "source": [
        "drivers_df.write.mode('overwrite').parquet('/content/drive/MyDrive/formula1Project/data/processed/drivers')"
      ],
      "metadata": {
        "id": "aGAQBAmN8vSA"
      },
      "execution_count": null,
      "outputs": []
    },
    {
      "cell_type": "code",
      "source": [
        "spark.read.parquet('/content/drive/MyDrive/formula1Project/data/processed/drivers').show()"
      ],
      "metadata": {
        "colab": {
          "base_uri": "https://localhost:8080/"
        },
        "id": "zUmFb1BgefFX",
        "outputId": "4100a53a-abce-421f-cb6e-b4d30a805058"
      },
      "execution_count": null,
      "outputs": [
        {
          "output_type": "stream",
          "name": "stdout",
          "text": [
            "+---------+----------+------+----+------------------+----------+-----------+--------------------+\n",
            "|driver_id|driver_ref|number|code|              name|       dob|nationality|      ingestion_date|\n",
            "+---------+----------+------+----+------------------+----------+-----------+--------------------+\n",
            "|        1|  hamilton|    44| HAM|    Lewis Hamilton|1985-01-07|    British|2023-03-23 21:26:...|\n",
            "|        2|  heidfeld|  null| HEI|     Nick Heidfeld|1977-05-10|     German|2023-03-23 21:26:...|\n",
            "|        3|   rosberg|     6| ROS|      Nico Rosberg|1985-06-27|     German|2023-03-23 21:26:...|\n",
            "|        4|    alonso|    14| ALO|   Fernando Alonso|1981-07-29|    Spanish|2023-03-23 21:26:...|\n",
            "|        5|kovalainen|  null| KOV| Heikki Kovalainen|1981-10-19|    Finnish|2023-03-23 21:26:...|\n",
            "|        6|  nakajima|  null| NAK|   Kazuki Nakajima|1985-01-11|   Japanese|2023-03-23 21:26:...|\n",
            "|        7|  bourdais|  null| BOU|Sébastien Bourdais|1979-02-28|     French|2023-03-23 21:26:...|\n",
            "|        8| raikkonen|     7| RAI|    Kimi Räikkönen|1979-10-17|    Finnish|2023-03-23 21:26:...|\n",
            "|        9|    kubica|    88| KUB|     Robert Kubica|1984-12-07|     Polish|2023-03-23 21:26:...|\n",
            "|       10|     glock|  null| GLO|        Timo Glock|1982-03-18|     German|2023-03-23 21:26:...|\n",
            "|       11|      sato|  null| SAT|       Takuma Sato|1977-01-28|   Japanese|2023-03-23 21:26:...|\n",
            "|       12| piquet_jr|  null| PIQ| Nelson Piquet Jr.|1985-07-25|  Brazilian|2023-03-23 21:26:...|\n",
            "|       13|     massa|    19| MAS|      Felipe Massa|1981-04-25|  Brazilian|2023-03-23 21:26:...|\n",
            "|       14| coulthard|  null| COU|   David Coulthard|1971-03-27|    British|2023-03-23 21:26:...|\n",
            "|       15|    trulli|  null| TRU|      Jarno Trulli|1974-07-13|    Italian|2023-03-23 21:26:...|\n",
            "|       16|     sutil|    99| SUT|      Adrian Sutil|1983-01-11|     German|2023-03-23 21:26:...|\n",
            "|       17|    webber|  null| WEB|       Mark Webber|1976-08-27| Australian|2023-03-23 21:26:...|\n",
            "|       18|    button|    22| BUT|     Jenson Button|1980-01-19|    British|2023-03-23 21:26:...|\n",
            "|       19|  davidson|  null| DAV|  Anthony Davidson|1979-04-18|    British|2023-03-23 21:26:...|\n",
            "|       20|    vettel|     5| VET|  Sebastian Vettel|1987-07-03|     German|2023-03-23 21:26:...|\n",
            "+---------+----------+------+----+------------------+----------+-----------+--------------------+\n",
            "only showing top 20 rows\n",
            "\n"
          ]
        }
      ]
    },
    {
      "cell_type": "markdown",
      "source": [
        "### Ingest results.json"
      ],
      "metadata": {
        "id": "AcE9lSS4-r-h"
      }
    },
    {
      "cell_type": "code",
      "source": [
        "from pyspark.sql.types import StructType, StructField, IntegerType, StringType, FloatType"
      ],
      "metadata": {
        "id": "0NO3zl3m9jog"
      },
      "execution_count": null,
      "outputs": []
    },
    {
      "cell_type": "code",
      "source": [
        "results_schema = StructType(fields=[StructField(\"resultId\", IntegerType(), False),\n",
        "                                    StructField(\"raceId\", IntegerType(), True),\n",
        "                                    StructField(\"driverId\", IntegerType(), True),\n",
        "                                    StructField(\"constructorId\", IntegerType(), True),\n",
        "                                    StructField(\"number\", IntegerType(), True),\n",
        "                                    StructField(\"grid\", IntegerType(), True),\n",
        "                                    StructField(\"position\", IntegerType(), True),\n",
        "                                    StructField(\"positionText\", StringType(), True),\n",
        "                                    StructField(\"positionOrder\", IntegerType(), True),\n",
        "                                    StructField(\"points\", FloatType(), True),\n",
        "                                    StructField(\"laps\", IntegerType(), True),\n",
        "                                    StructField(\"time\", StringType(), True),\n",
        "                                    StructField(\"milliseconds\", IntegerType(), True),\n",
        "                                    StructField(\"fastestLap\", IntegerType(), True),\n",
        "                                    StructField(\"rank\", IntegerType(), True),\n",
        "                                    StructField(\"fastestLapTime\", StringType(), True),\n",
        "                                    StructField(\"fastestLapSpeed\", FloatType(), True),\n",
        "                                    StructField(\"statusId\", StringType(), True)])"
      ],
      "metadata": {
        "id": "9SNwL9v7DaO7"
      },
      "execution_count": null,
      "outputs": []
    },
    {
      "cell_type": "code",
      "source": [
        "results_df = spark.read \\\n",
        ".schema(results_schema) \\\n",
        ".json('/content/drive/MyDrive/formula1Project/data/raw/results.json')"
      ],
      "metadata": {
        "id": "qhvZ10ewCWjb"
      },
      "execution_count": null,
      "outputs": []
    },
    {
      "cell_type": "markdown",
      "source": [
        "#### Drop, rename and add required columns"
      ],
      "metadata": {
        "id": "nxvFwGNUE4bb"
      }
    },
    {
      "cell_type": "code",
      "source": [
        "results_df = results_df.drop('statusId')"
      ],
      "metadata": {
        "id": "6LtTeMHoCxJT"
      },
      "execution_count": null,
      "outputs": []
    },
    {
      "cell_type": "code",
      "source": [
        "results_df = results_df.withColumnRenamed('resultId', 'result_id') \\\n",
        "                       .withColumnRenamed('raceId', 'race_id') \\\n",
        "                       .withColumnRenamed('driverId', 'driver_id') \\\n",
        "                       .withColumnRenamed('constructorId', 'constructor_id') \\\n",
        "                       .withColumnRenamed('positionText', 'position_text') \\\n",
        "                       .withColumnRenamed('positionOrder', 'position_order') \\\n",
        "                       .withColumnRenamed('fastestLap', 'fastest_lap') \\\n",
        "                       .withColumnRenamed('fastestLapTime', 'fastest_lap_time') \\\n",
        "                       .withColumnRenamed('fastestLapSpeed', 'fastest_lap_speed')"
      ],
      "metadata": {
        "id": "E4HyTUY7EFOE"
      },
      "execution_count": null,
      "outputs": []
    },
    {
      "cell_type": "code",
      "source": [
        "from pyspark.sql.functions import current_timestamp"
      ],
      "metadata": {
        "id": "GpjnqAGfFWMs"
      },
      "execution_count": null,
      "outputs": []
    },
    {
      "cell_type": "code",
      "source": [
        "results_df = results_df.withColumn('ingestion_date', current_timestamp())"
      ],
      "metadata": {
        "id": "v658u2deE3vj"
      },
      "execution_count": null,
      "outputs": []
    },
    {
      "cell_type": "markdown",
      "source": [
        "#### Write the output to processed folder in parquet format"
      ],
      "metadata": {
        "id": "4tlZGkmlFnwE"
      }
    },
    {
      "cell_type": "code",
      "source": [
        "results_df.write.mode('overwrite').partitionBy('race_id').parquet('/content/drive/MyDrive/formula1Project/data/processed/results')\n"
      ],
      "metadata": {
        "id": "9tb8375tFFVU"
      },
      "execution_count": null,
      "outputs": []
    },
    {
      "cell_type": "markdown",
      "source": [
        "### Ingest pitstops.json"
      ],
      "metadata": {
        "id": "DJm7rFGPGwTk"
      }
    },
    {
      "cell_type": "code",
      "source": [
        "from pyspark.sql.types import StructType, StructField, IntegerType, StringType"
      ],
      "metadata": {
        "id": "BgQbNkGmGKG0"
      },
      "execution_count": null,
      "outputs": []
    },
    {
      "cell_type": "code",
      "source": [
        "pit_stops_schema = StructType(fields=[StructField(\"raceId\", IntegerType(), False),\n",
        "                                      StructField(\"driverId\", IntegerType(), True),\n",
        "                                      StructField(\"stop\", StringType(), True),\n",
        "                                      StructField(\"lap\", IntegerType(), True),\n",
        "                                      StructField(\"time\", StringType(), True),\n",
        "                                      StructField(\"duration\", StringType(), True),\n",
        "                                      StructField(\"milliseconds\", IntegerType(), True)\n",
        "                                     ])"
      ],
      "metadata": {
        "id": "tE8SMmWtHUYm"
      },
      "execution_count": null,
      "outputs": []
    },
    {
      "cell_type": "code",
      "source": [
        "pit_stops_df = spark.read \\\n",
        ".schema(pit_stops_schema) \\\n",
        ".option('multiline', True) \\\n",
        ".json('/content/drive/MyDrive/formula1Project/data/raw/pit_stops.json')"
      ],
      "metadata": {
        "id": "TlRglmlKHWeG"
      },
      "execution_count": null,
      "outputs": []
    },
    {
      "cell_type": "markdown",
      "source": [
        "#### Rename and add columns as required"
      ],
      "metadata": {
        "id": "9KOrVMQsH3Fm"
      }
    },
    {
      "cell_type": "code",
      "source": [
        "pit_stops_df = pit_stops_df.withColumnRenamed('raceId', 'race_id') \\\n",
        "                           .withColumnRenamed('driverId', 'driver_id')"
      ],
      "metadata": {
        "id": "eQJ4O5vFHp8V"
      },
      "execution_count": null,
      "outputs": []
    },
    {
      "cell_type": "code",
      "source": [
        "pit_stops_df = pit_stops_df.withColumn('ingestion_date', current_timestamp())"
      ],
      "metadata": {
        "id": "Mn_ybx9wINNG"
      },
      "execution_count": null,
      "outputs": []
    },
    {
      "cell_type": "markdown",
      "source": [
        "#### Write the output to processed folder in parquet format"
      ],
      "metadata": {
        "id": "6UG1V5B8IlU9"
      }
    },
    {
      "cell_type": "code",
      "source": [
        "pit_stops_df.write.mode(\"overwrite\").parquet('/content/drive/MyDrive/formula1Project/data/processed/pit_stops')"
      ],
      "metadata": {
        "id": "ngFa_eYhIg0G"
      },
      "execution_count": null,
      "outputs": []
    },
    {
      "cell_type": "code",
      "source": [
        "spark.read.parquet('/content/drive/MyDrive/formula1Project/data/processed/pit_stops').toPandas()"
      ],
      "metadata": {
        "colab": {
          "base_uri": "https://localhost:8080/",
          "height": 424
        },
        "id": "01Ih28aSZQAB",
        "outputId": "341d4323-d726-4316-9786-823d054e5c89"
      },
      "execution_count": null,
      "outputs": [
        {
          "output_type": "execute_result",
          "data": {
            "text/plain": [
              "      race_id  driver_id stop  lap      time duration  milliseconds  \\\n",
              "0         841        153    1    1  17:05:23   26.898         26898   \n",
              "1         841         30    1    1  17:05:52   25.021         25021   \n",
              "2         841         17    1   11  17:20:48   23.426         23426   \n",
              "3         841          4    1   12  17:22:34   23.251         23251   \n",
              "4         841         13    1   13  17:24:10   23.842         23842   \n",
              "...       ...        ...  ...  ...       ...      ...           ...   \n",
              "8025     1047         20    1   35  18:17:15    22.04         22040   \n",
              "8026     1047        849    2   35  18:17:41   22.384         22384   \n",
              "8027     1047        817    1   39  18:23:37   22.123         22123   \n",
              "8028     1047        825    2   47  18:39:11   23.098         23098   \n",
              "8029     1047        850    3   48  18:41:11   23.217         23217   \n",
              "\n",
              "              ingestion_date  \n",
              "0    2023-03-23 21:34:19.103  \n",
              "1    2023-03-23 21:34:19.103  \n",
              "2    2023-03-23 21:34:19.103  \n",
              "3    2023-03-23 21:34:19.103  \n",
              "4    2023-03-23 21:34:19.103  \n",
              "...                      ...  \n",
              "8025 2023-03-23 21:34:19.103  \n",
              "8026 2023-03-23 21:34:19.103  \n",
              "8027 2023-03-23 21:34:19.103  \n",
              "8028 2023-03-23 21:34:19.103  \n",
              "8029 2023-03-23 21:34:19.103  \n",
              "\n",
              "[8030 rows x 8 columns]"
            ],
            "text/html": [
              "\n",
              "  <div id=\"df-4d530a30-7d40-4a0d-ab67-424b6779d9e2\">\n",
              "    <div class=\"colab-df-container\">\n",
              "      <div>\n",
              "<style scoped>\n",
              "    .dataframe tbody tr th:only-of-type {\n",
              "        vertical-align: middle;\n",
              "    }\n",
              "\n",
              "    .dataframe tbody tr th {\n",
              "        vertical-align: top;\n",
              "    }\n",
              "\n",
              "    .dataframe thead th {\n",
              "        text-align: right;\n",
              "    }\n",
              "</style>\n",
              "<table border=\"1\" class=\"dataframe\">\n",
              "  <thead>\n",
              "    <tr style=\"text-align: right;\">\n",
              "      <th></th>\n",
              "      <th>race_id</th>\n",
              "      <th>driver_id</th>\n",
              "      <th>stop</th>\n",
              "      <th>lap</th>\n",
              "      <th>time</th>\n",
              "      <th>duration</th>\n",
              "      <th>milliseconds</th>\n",
              "      <th>ingestion_date</th>\n",
              "    </tr>\n",
              "  </thead>\n",
              "  <tbody>\n",
              "    <tr>\n",
              "      <th>0</th>\n",
              "      <td>841</td>\n",
              "      <td>153</td>\n",
              "      <td>1</td>\n",
              "      <td>1</td>\n",
              "      <td>17:05:23</td>\n",
              "      <td>26.898</td>\n",
              "      <td>26898</td>\n",
              "      <td>2023-03-23 21:34:19.103</td>\n",
              "    </tr>\n",
              "    <tr>\n",
              "      <th>1</th>\n",
              "      <td>841</td>\n",
              "      <td>30</td>\n",
              "      <td>1</td>\n",
              "      <td>1</td>\n",
              "      <td>17:05:52</td>\n",
              "      <td>25.021</td>\n",
              "      <td>25021</td>\n",
              "      <td>2023-03-23 21:34:19.103</td>\n",
              "    </tr>\n",
              "    <tr>\n",
              "      <th>2</th>\n",
              "      <td>841</td>\n",
              "      <td>17</td>\n",
              "      <td>1</td>\n",
              "      <td>11</td>\n",
              "      <td>17:20:48</td>\n",
              "      <td>23.426</td>\n",
              "      <td>23426</td>\n",
              "      <td>2023-03-23 21:34:19.103</td>\n",
              "    </tr>\n",
              "    <tr>\n",
              "      <th>3</th>\n",
              "      <td>841</td>\n",
              "      <td>4</td>\n",
              "      <td>1</td>\n",
              "      <td>12</td>\n",
              "      <td>17:22:34</td>\n",
              "      <td>23.251</td>\n",
              "      <td>23251</td>\n",
              "      <td>2023-03-23 21:34:19.103</td>\n",
              "    </tr>\n",
              "    <tr>\n",
              "      <th>4</th>\n",
              "      <td>841</td>\n",
              "      <td>13</td>\n",
              "      <td>1</td>\n",
              "      <td>13</td>\n",
              "      <td>17:24:10</td>\n",
              "      <td>23.842</td>\n",
              "      <td>23842</td>\n",
              "      <td>2023-03-23 21:34:19.103</td>\n",
              "    </tr>\n",
              "    <tr>\n",
              "      <th>...</th>\n",
              "      <td>...</td>\n",
              "      <td>...</td>\n",
              "      <td>...</td>\n",
              "      <td>...</td>\n",
              "      <td>...</td>\n",
              "      <td>...</td>\n",
              "      <td>...</td>\n",
              "      <td>...</td>\n",
              "    </tr>\n",
              "    <tr>\n",
              "      <th>8025</th>\n",
              "      <td>1047</td>\n",
              "      <td>20</td>\n",
              "      <td>1</td>\n",
              "      <td>35</td>\n",
              "      <td>18:17:15</td>\n",
              "      <td>22.04</td>\n",
              "      <td>22040</td>\n",
              "      <td>2023-03-23 21:34:19.103</td>\n",
              "    </tr>\n",
              "    <tr>\n",
              "      <th>8026</th>\n",
              "      <td>1047</td>\n",
              "      <td>849</td>\n",
              "      <td>2</td>\n",
              "      <td>35</td>\n",
              "      <td>18:17:41</td>\n",
              "      <td>22.384</td>\n",
              "      <td>22384</td>\n",
              "      <td>2023-03-23 21:34:19.103</td>\n",
              "    </tr>\n",
              "    <tr>\n",
              "      <th>8027</th>\n",
              "      <td>1047</td>\n",
              "      <td>817</td>\n",
              "      <td>1</td>\n",
              "      <td>39</td>\n",
              "      <td>18:23:37</td>\n",
              "      <td>22.123</td>\n",
              "      <td>22123</td>\n",
              "      <td>2023-03-23 21:34:19.103</td>\n",
              "    </tr>\n",
              "    <tr>\n",
              "      <th>8028</th>\n",
              "      <td>1047</td>\n",
              "      <td>825</td>\n",
              "      <td>2</td>\n",
              "      <td>47</td>\n",
              "      <td>18:39:11</td>\n",
              "      <td>23.098</td>\n",
              "      <td>23098</td>\n",
              "      <td>2023-03-23 21:34:19.103</td>\n",
              "    </tr>\n",
              "    <tr>\n",
              "      <th>8029</th>\n",
              "      <td>1047</td>\n",
              "      <td>850</td>\n",
              "      <td>3</td>\n",
              "      <td>48</td>\n",
              "      <td>18:41:11</td>\n",
              "      <td>23.217</td>\n",
              "      <td>23217</td>\n",
              "      <td>2023-03-23 21:34:19.103</td>\n",
              "    </tr>\n",
              "  </tbody>\n",
              "</table>\n",
              "<p>8030 rows × 8 columns</p>\n",
              "</div>\n",
              "      <button class=\"colab-df-convert\" onclick=\"convertToInteractive('df-4d530a30-7d40-4a0d-ab67-424b6779d9e2')\"\n",
              "              title=\"Convert this dataframe to an interactive table.\"\n",
              "              style=\"display:none;\">\n",
              "        \n",
              "  <svg xmlns=\"http://www.w3.org/2000/svg\" height=\"24px\"viewBox=\"0 0 24 24\"\n",
              "       width=\"24px\">\n",
              "    <path d=\"M0 0h24v24H0V0z\" fill=\"none\"/>\n",
              "    <path d=\"M18.56 5.44l.94 2.06.94-2.06 2.06-.94-2.06-.94-.94-2.06-.94 2.06-2.06.94zm-11 1L8.5 8.5l.94-2.06 2.06-.94-2.06-.94L8.5 2.5l-.94 2.06-2.06.94zm10 10l.94 2.06.94-2.06 2.06-.94-2.06-.94-.94-2.06-.94 2.06-2.06.94z\"/><path d=\"M17.41 7.96l-1.37-1.37c-.4-.4-.92-.59-1.43-.59-.52 0-1.04.2-1.43.59L10.3 9.45l-7.72 7.72c-.78.78-.78 2.05 0 2.83L4 21.41c.39.39.9.59 1.41.59.51 0 1.02-.2 1.41-.59l7.78-7.78 2.81-2.81c.8-.78.8-2.07 0-2.86zM5.41 20L4 18.59l7.72-7.72 1.47 1.35L5.41 20z\"/>\n",
              "  </svg>\n",
              "      </button>\n",
              "      \n",
              "  <style>\n",
              "    .colab-df-container {\n",
              "      display:flex;\n",
              "      flex-wrap:wrap;\n",
              "      gap: 12px;\n",
              "    }\n",
              "\n",
              "    .colab-df-convert {\n",
              "      background-color: #E8F0FE;\n",
              "      border: none;\n",
              "      border-radius: 50%;\n",
              "      cursor: pointer;\n",
              "      display: none;\n",
              "      fill: #1967D2;\n",
              "      height: 32px;\n",
              "      padding: 0 0 0 0;\n",
              "      width: 32px;\n",
              "    }\n",
              "\n",
              "    .colab-df-convert:hover {\n",
              "      background-color: #E2EBFA;\n",
              "      box-shadow: 0px 1px 2px rgba(60, 64, 67, 0.3), 0px 1px 3px 1px rgba(60, 64, 67, 0.15);\n",
              "      fill: #174EA6;\n",
              "    }\n",
              "\n",
              "    [theme=dark] .colab-df-convert {\n",
              "      background-color: #3B4455;\n",
              "      fill: #D2E3FC;\n",
              "    }\n",
              "\n",
              "    [theme=dark] .colab-df-convert:hover {\n",
              "      background-color: #434B5C;\n",
              "      box-shadow: 0px 1px 3px 1px rgba(0, 0, 0, 0.15);\n",
              "      filter: drop-shadow(0px 1px 2px rgba(0, 0, 0, 0.3));\n",
              "      fill: #FFFFFF;\n",
              "    }\n",
              "  </style>\n",
              "\n",
              "      <script>\n",
              "        const buttonEl =\n",
              "          document.querySelector('#df-4d530a30-7d40-4a0d-ab67-424b6779d9e2 button.colab-df-convert');\n",
              "        buttonEl.style.display =\n",
              "          google.colab.kernel.accessAllowed ? 'block' : 'none';\n",
              "\n",
              "        async function convertToInteractive(key) {\n",
              "          const element = document.querySelector('#df-4d530a30-7d40-4a0d-ab67-424b6779d9e2');\n",
              "          const dataTable =\n",
              "            await google.colab.kernel.invokeFunction('convertToInteractive',\n",
              "                                                     [key], {});\n",
              "          if (!dataTable) return;\n",
              "\n",
              "          const docLinkHtml = 'Like what you see? Visit the ' +\n",
              "            '<a target=\"_blank\" href=https://colab.research.google.com/notebooks/data_table.ipynb>data table notebook</a>'\n",
              "            + ' to learn more about interactive tables.';\n",
              "          element.innerHTML = '';\n",
              "          dataTable['output_type'] = 'display_data';\n",
              "          await google.colab.output.renderOutput(dataTable, element);\n",
              "          const docLink = document.createElement('div');\n",
              "          docLink.innerHTML = docLinkHtml;\n",
              "          element.appendChild(docLink);\n",
              "        }\n",
              "      </script>\n",
              "    </div>\n",
              "  </div>\n",
              "  "
            ]
          },
          "metadata": {},
          "execution_count": 62
        }
      ]
    },
    {
      "cell_type": "markdown",
      "source": [
        "## Ingest multiple files"
      ],
      "metadata": {
        "id": "VVX-eE-JR4fT"
      }
    },
    {
      "cell_type": "markdown",
      "source": [
        "### Ingest lap_times files - Multiple CSV files"
      ],
      "metadata": {
        "id": "9nMYHhLRSBcq"
      }
    },
    {
      "cell_type": "code",
      "source": [
        "from pyspark.sql.types import StructType, StructField, IntegerType, StringType, FloatType"
      ],
      "metadata": {
        "id": "Uv6ZlQNbSA3q"
      },
      "execution_count": null,
      "outputs": []
    },
    {
      "cell_type": "code",
      "source": [
        "lap_times_schema = StructType(fields=[StructField('raceId', IntegerType(), False),\n",
        "                                      StructField('driverId', IntegerType(), False),\n",
        "                                      StructField('lap', IntegerType(), False),\n",
        "                                      StructField('position', IntegerType(), True),\n",
        "                                      StructField('time', StringType(), True),\n",
        "                                      StructField('milliseconds', IntegerType(), True),\n",
        "])"
      ],
      "metadata": {
        "id": "TE3G1G6TSvNi"
      },
      "execution_count": null,
      "outputs": []
    },
    {
      "cell_type": "code",
      "source": [
        "lap_times_df = spark.read \\\n",
        ".schema(lap_times_schema) \\\n",
        ".csv('/content/drive/MyDrive/formula1Project/data/raw/lap_times')"
      ],
      "metadata": {
        "id": "ku1cm6-cT9-p"
      },
      "execution_count": null,
      "outputs": []
    },
    {
      "cell_type": "code",
      "source": [
        "from pyspark.sql.functions import current_timestamp, from_utc_timestamp"
      ],
      "metadata": {
        "id": "DDBbKWFKUz2Z"
      },
      "execution_count": null,
      "outputs": []
    },
    {
      "cell_type": "code",
      "source": [
        "lap_times_df = lap_times_df.withColumnRenamed('raceId', 'race_id') \\\n",
        "                           .withColumnRenamed('driverId', 'driver_id') \\\n",
        "                           .withColumn(\"ingestion_date\", from_utc_timestamp(current_timestamp(), \"GMT-3\"))"
      ],
      "metadata": {
        "id": "xlvPpysfUO6h"
      },
      "execution_count": null,
      "outputs": []
    },
    {
      "cell_type": "code",
      "source": [
        "lap_times_df.write.mode('overwrite').parquet('/content/drive/MyDrive/formula1Project/data/processed/lap_times')"
      ],
      "metadata": {
        "id": "kcaFOQwTUUFZ"
      },
      "execution_count": null,
      "outputs": []
    },
    {
      "cell_type": "code",
      "source": [
        "spark.read.parquet('/content/drive/MyDrive/formula1Project/data/processed/lap_times').limit(11).toPandas()"
      ],
      "metadata": {
        "colab": {
          "base_uri": "https://localhost:8080/",
          "height": 394
        },
        "id": "D_SbmsUrh5aX",
        "outputId": "5a464e55-78a8-4f6a-b190-377b4a1be518"
      },
      "execution_count": null,
      "outputs": [
        {
          "output_type": "execute_result",
          "data": {
            "text/plain": [
              "    race_id  driver_id  lap  position      time  milliseconds  \\\n",
              "0       841         20    1         1  1:38.109         98109   \n",
              "1       841         20    2         1  1:33.006         93006   \n",
              "2       841         20    3         1  1:32.713         92713   \n",
              "3       841         20    4         1  1:32.803         92803   \n",
              "4       841         20    5         1  1:32.342         92342   \n",
              "5       841         20    6         1  1:32.605         92605   \n",
              "6       841         20    7         1  1:32.502         92502   \n",
              "7       841         20    8         1  1:32.537         92537   \n",
              "8       841         20    9         1  1:33.240         93240   \n",
              "9       841         20   10         1  1:32.572         92572   \n",
              "10      841         20   11         1  1:32.669         92669   \n",
              "\n",
              "            ingestion_date  \n",
              "0  2023-03-23 18:29:54.668  \n",
              "1  2023-03-23 18:29:54.668  \n",
              "2  2023-03-23 18:29:54.668  \n",
              "3  2023-03-23 18:29:54.668  \n",
              "4  2023-03-23 18:29:54.668  \n",
              "5  2023-03-23 18:29:54.668  \n",
              "6  2023-03-23 18:29:54.668  \n",
              "7  2023-03-23 18:29:54.668  \n",
              "8  2023-03-23 18:29:54.668  \n",
              "9  2023-03-23 18:29:54.668  \n",
              "10 2023-03-23 18:29:54.668  "
            ],
            "text/html": [
              "\n",
              "  <div id=\"df-0b563893-c14c-4990-a5f1-75f36e86442c\">\n",
              "    <div class=\"colab-df-container\">\n",
              "      <div>\n",
              "<style scoped>\n",
              "    .dataframe tbody tr th:only-of-type {\n",
              "        vertical-align: middle;\n",
              "    }\n",
              "\n",
              "    .dataframe tbody tr th {\n",
              "        vertical-align: top;\n",
              "    }\n",
              "\n",
              "    .dataframe thead th {\n",
              "        text-align: right;\n",
              "    }\n",
              "</style>\n",
              "<table border=\"1\" class=\"dataframe\">\n",
              "  <thead>\n",
              "    <tr style=\"text-align: right;\">\n",
              "      <th></th>\n",
              "      <th>race_id</th>\n",
              "      <th>driver_id</th>\n",
              "      <th>lap</th>\n",
              "      <th>position</th>\n",
              "      <th>time</th>\n",
              "      <th>milliseconds</th>\n",
              "      <th>ingestion_date</th>\n",
              "    </tr>\n",
              "  </thead>\n",
              "  <tbody>\n",
              "    <tr>\n",
              "      <th>0</th>\n",
              "      <td>841</td>\n",
              "      <td>20</td>\n",
              "      <td>1</td>\n",
              "      <td>1</td>\n",
              "      <td>1:38.109</td>\n",
              "      <td>98109</td>\n",
              "      <td>2023-03-23 18:29:54.668</td>\n",
              "    </tr>\n",
              "    <tr>\n",
              "      <th>1</th>\n",
              "      <td>841</td>\n",
              "      <td>20</td>\n",
              "      <td>2</td>\n",
              "      <td>1</td>\n",
              "      <td>1:33.006</td>\n",
              "      <td>93006</td>\n",
              "      <td>2023-03-23 18:29:54.668</td>\n",
              "    </tr>\n",
              "    <tr>\n",
              "      <th>2</th>\n",
              "      <td>841</td>\n",
              "      <td>20</td>\n",
              "      <td>3</td>\n",
              "      <td>1</td>\n",
              "      <td>1:32.713</td>\n",
              "      <td>92713</td>\n",
              "      <td>2023-03-23 18:29:54.668</td>\n",
              "    </tr>\n",
              "    <tr>\n",
              "      <th>3</th>\n",
              "      <td>841</td>\n",
              "      <td>20</td>\n",
              "      <td>4</td>\n",
              "      <td>1</td>\n",
              "      <td>1:32.803</td>\n",
              "      <td>92803</td>\n",
              "      <td>2023-03-23 18:29:54.668</td>\n",
              "    </tr>\n",
              "    <tr>\n",
              "      <th>4</th>\n",
              "      <td>841</td>\n",
              "      <td>20</td>\n",
              "      <td>5</td>\n",
              "      <td>1</td>\n",
              "      <td>1:32.342</td>\n",
              "      <td>92342</td>\n",
              "      <td>2023-03-23 18:29:54.668</td>\n",
              "    </tr>\n",
              "    <tr>\n",
              "      <th>5</th>\n",
              "      <td>841</td>\n",
              "      <td>20</td>\n",
              "      <td>6</td>\n",
              "      <td>1</td>\n",
              "      <td>1:32.605</td>\n",
              "      <td>92605</td>\n",
              "      <td>2023-03-23 18:29:54.668</td>\n",
              "    </tr>\n",
              "    <tr>\n",
              "      <th>6</th>\n",
              "      <td>841</td>\n",
              "      <td>20</td>\n",
              "      <td>7</td>\n",
              "      <td>1</td>\n",
              "      <td>1:32.502</td>\n",
              "      <td>92502</td>\n",
              "      <td>2023-03-23 18:29:54.668</td>\n",
              "    </tr>\n",
              "    <tr>\n",
              "      <th>7</th>\n",
              "      <td>841</td>\n",
              "      <td>20</td>\n",
              "      <td>8</td>\n",
              "      <td>1</td>\n",
              "      <td>1:32.537</td>\n",
              "      <td>92537</td>\n",
              "      <td>2023-03-23 18:29:54.668</td>\n",
              "    </tr>\n",
              "    <tr>\n",
              "      <th>8</th>\n",
              "      <td>841</td>\n",
              "      <td>20</td>\n",
              "      <td>9</td>\n",
              "      <td>1</td>\n",
              "      <td>1:33.240</td>\n",
              "      <td>93240</td>\n",
              "      <td>2023-03-23 18:29:54.668</td>\n",
              "    </tr>\n",
              "    <tr>\n",
              "      <th>9</th>\n",
              "      <td>841</td>\n",
              "      <td>20</td>\n",
              "      <td>10</td>\n",
              "      <td>1</td>\n",
              "      <td>1:32.572</td>\n",
              "      <td>92572</td>\n",
              "      <td>2023-03-23 18:29:54.668</td>\n",
              "    </tr>\n",
              "    <tr>\n",
              "      <th>10</th>\n",
              "      <td>841</td>\n",
              "      <td>20</td>\n",
              "      <td>11</td>\n",
              "      <td>1</td>\n",
              "      <td>1:32.669</td>\n",
              "      <td>92669</td>\n",
              "      <td>2023-03-23 18:29:54.668</td>\n",
              "    </tr>\n",
              "  </tbody>\n",
              "</table>\n",
              "</div>\n",
              "      <button class=\"colab-df-convert\" onclick=\"convertToInteractive('df-0b563893-c14c-4990-a5f1-75f36e86442c')\"\n",
              "              title=\"Convert this dataframe to an interactive table.\"\n",
              "              style=\"display:none;\">\n",
              "        \n",
              "  <svg xmlns=\"http://www.w3.org/2000/svg\" height=\"24px\"viewBox=\"0 0 24 24\"\n",
              "       width=\"24px\">\n",
              "    <path d=\"M0 0h24v24H0V0z\" fill=\"none\"/>\n",
              "    <path d=\"M18.56 5.44l.94 2.06.94-2.06 2.06-.94-2.06-.94-.94-2.06-.94 2.06-2.06.94zm-11 1L8.5 8.5l.94-2.06 2.06-.94-2.06-.94L8.5 2.5l-.94 2.06-2.06.94zm10 10l.94 2.06.94-2.06 2.06-.94-2.06-.94-.94-2.06-.94 2.06-2.06.94z\"/><path d=\"M17.41 7.96l-1.37-1.37c-.4-.4-.92-.59-1.43-.59-.52 0-1.04.2-1.43.59L10.3 9.45l-7.72 7.72c-.78.78-.78 2.05 0 2.83L4 21.41c.39.39.9.59 1.41.59.51 0 1.02-.2 1.41-.59l7.78-7.78 2.81-2.81c.8-.78.8-2.07 0-2.86zM5.41 20L4 18.59l7.72-7.72 1.47 1.35L5.41 20z\"/>\n",
              "  </svg>\n",
              "      </button>\n",
              "      \n",
              "  <style>\n",
              "    .colab-df-container {\n",
              "      display:flex;\n",
              "      flex-wrap:wrap;\n",
              "      gap: 12px;\n",
              "    }\n",
              "\n",
              "    .colab-df-convert {\n",
              "      background-color: #E8F0FE;\n",
              "      border: none;\n",
              "      border-radius: 50%;\n",
              "      cursor: pointer;\n",
              "      display: none;\n",
              "      fill: #1967D2;\n",
              "      height: 32px;\n",
              "      padding: 0 0 0 0;\n",
              "      width: 32px;\n",
              "    }\n",
              "\n",
              "    .colab-df-convert:hover {\n",
              "      background-color: #E2EBFA;\n",
              "      box-shadow: 0px 1px 2px rgba(60, 64, 67, 0.3), 0px 1px 3px 1px rgba(60, 64, 67, 0.15);\n",
              "      fill: #174EA6;\n",
              "    }\n",
              "\n",
              "    [theme=dark] .colab-df-convert {\n",
              "      background-color: #3B4455;\n",
              "      fill: #D2E3FC;\n",
              "    }\n",
              "\n",
              "    [theme=dark] .colab-df-convert:hover {\n",
              "      background-color: #434B5C;\n",
              "      box-shadow: 0px 1px 3px 1px rgba(0, 0, 0, 0.15);\n",
              "      filter: drop-shadow(0px 1px 2px rgba(0, 0, 0, 0.3));\n",
              "      fill: #FFFFFF;\n",
              "    }\n",
              "  </style>\n",
              "\n",
              "      <script>\n",
              "        const buttonEl =\n",
              "          document.querySelector('#df-0b563893-c14c-4990-a5f1-75f36e86442c button.colab-df-convert');\n",
              "        buttonEl.style.display =\n",
              "          google.colab.kernel.accessAllowed ? 'block' : 'none';\n",
              "\n",
              "        async function convertToInteractive(key) {\n",
              "          const element = document.querySelector('#df-0b563893-c14c-4990-a5f1-75f36e86442c');\n",
              "          const dataTable =\n",
              "            await google.colab.kernel.invokeFunction('convertToInteractive',\n",
              "                                                     [key], {});\n",
              "          if (!dataTable) return;\n",
              "\n",
              "          const docLinkHtml = 'Like what you see? Visit the ' +\n",
              "            '<a target=\"_blank\" href=https://colab.research.google.com/notebooks/data_table.ipynb>data table notebook</a>'\n",
              "            + ' to learn more about interactive tables.';\n",
              "          element.innerHTML = '';\n",
              "          dataTable['output_type'] = 'display_data';\n",
              "          await google.colab.output.renderOutput(dataTable, element);\n",
              "          const docLink = document.createElement('div');\n",
              "          docLink.innerHTML = docLinkHtml;\n",
              "          element.appendChild(docLink);\n",
              "        }\n",
              "      </script>\n",
              "    </div>\n",
              "  </div>\n",
              "  "
            ]
          },
          "metadata": {},
          "execution_count": 56
        }
      ]
    },
    {
      "cell_type": "markdown",
      "source": [
        "### Ingest qualifying files - Multiple MultIline JSON files"
      ],
      "metadata": {
        "id": "5OI7RVGoINKi"
      }
    },
    {
      "cell_type": "code",
      "source": [
        "qualifying_schema = StructType(fields=[StructField('qualifyId', IntegerType(), False),\n",
        "                                         StructField('raceId', IntegerType(), True),\n",
        "                                         StructField('driverId', IntegerType(), True),\n",
        "                                         StructField('constructorId', IntegerType(), True),\n",
        "                                         StructField('number', IntegerType(), True),\n",
        "                                         StructField('position', IntegerType(), True),\n",
        "                                         StructField('q1', StringType(), True),\n",
        "                                         StructField('q2', StringType(), True),\n",
        "                                         StructField('q3', StringType(), True),\n",
        "  \n",
        "])"
      ],
      "metadata": {
        "id": "Fcn_tyko_CTM"
      },
      "execution_count": null,
      "outputs": []
    },
    {
      "cell_type": "code",
      "source": [
        "qualifying_df = spark.read \\\n",
        ".schema(qualifying_schema) \\\n",
        ".option('multiLine', True) \\\n",
        ".json('/content/drive/MyDrive/formula1Project/data/raw/qualifying/*')"
      ],
      "metadata": {
        "id": "77GeDC94JbLr"
      },
      "execution_count": null,
      "outputs": []
    },
    {
      "cell_type": "code",
      "source": [
        "qualifying_df = qualifying_df.withColumnRenamed('qualifyId', 'qualify_id') \\\n",
        "                             .withColumnRenamed('raceId', 'race_id') \\\n",
        "                             .withColumnRenamed('driverId', 'driver_id') \\\n",
        "                             .withColumnRenamed('constructorId', 'constructor_id') \\\n",
        "                             .withColumn('ingestion_date', current_timestamp())"
      ],
      "metadata": {
        "id": "wrlneaFZJ2VK"
      },
      "execution_count": null,
      "outputs": []
    },
    {
      "cell_type": "code",
      "source": [
        "qualifying_df.write.mode('overwrite').parquet('/content/drive/MyDrive/formula1Project/data/processed/qualifying')"
      ],
      "metadata": {
        "id": "YScc7wBsJ4ZZ"
      },
      "execution_count": null,
      "outputs": []
    },
    {
      "cell_type": "markdown",
      "source": [
        "# Filter & Joins Transformations"
      ],
      "metadata": {
        "id": "8OYmWB8FUVQA"
      }
    },
    {
      "cell_type": "markdown",
      "source": [
        "## Read and renamed"
      ],
      "metadata": {
        "id": "xUb8AU6IofUd"
      }
    },
    {
      "cell_type": "code",
      "source": [
        "races_df = spark.read.parquet('/content/drive/MyDrive/formula1Project/data/processed/races') \\\n",
        ".withColumnRenamed('race_timestamp', 'race_date') \\\n",
        ".withColumnRenamed('name', 'race_name')"
      ],
      "metadata": {
        "id": "iMTMkz9bUb3v"
      },
      "execution_count": 11,
      "outputs": []
    },
    {
      "cell_type": "code",
      "source": [
        "circuits_df = spark.read.parquet('/content/drive/MyDrive/formula1Project/data/processed/circuits') \\\n",
        ".withColumnRenamed('location', 'circuit_location')"
      ],
      "metadata": {
        "id": "YOGsH86slXcO"
      },
      "execution_count": 20,
      "outputs": []
    },
    {
      "cell_type": "code",
      "source": [
        "constructors_df = spark.read.parquet('/content/drive/MyDrive/formula1Project/data/processed/constructors') \\\n",
        ".withColumnRenamed('name', 'team')"
      ],
      "metadata": {
        "id": "Ux5kYH_3lctd"
      },
      "execution_count": 17,
      "outputs": []
    },
    {
      "cell_type": "code",
      "source": [
        "results_df = spark.read.parquet('/content/drive/MyDrive/formula1Project/data/processed/results') \\\n",
        ".withColumnRenamed('time', 'race_time')"
      ],
      "metadata": {
        "id": "iGIC3krhlkCt"
      },
      "execution_count": 19,
      "outputs": []
    },
    {
      "cell_type": "code",
      "source": [
        "drivers_df = spark.read.parquet('/content/drive/MyDrive/formula1Project/data/processed/drivers') \\\n",
        ".withColumnRenamed('number', 'driver_number') \\\n",
        ".withColumnRenamed('name', 'driver_name') \\\n",
        ".withColumnRenamed('nationality', 'driver_nationality')"
      ],
      "metadata": {
        "id": "Rhd4HxaLlnxN"
      },
      "execution_count": 15,
      "outputs": []
    },
    {
      "cell_type": "markdown",
      "source": [
        "## Join circuits to races"
      ],
      "metadata": {
        "id": "1wjOZrPDojbN"
      }
    },
    {
      "cell_type": "code",
      "source": [
        "race_circuit_df = races_df.join(circuits_df, races_df.circuit_id == circuits_df.circuit_id, 'inner').select('race_id','race_year', 'race_name', 'race_date', 'circuit_location') "
      ],
      "metadata": {
        "id": "0vhR1IA9m0X9"
      },
      "execution_count": 32,
      "outputs": []
    },
    {
      "cell_type": "code",
      "source": [
        "race_circuit_df.show()"
      ],
      "metadata": {
        "colab": {
          "base_uri": "https://localhost:8080/"
        },
        "id": "z9ctiOc_pKGE",
        "outputId": "f6e78e76-b363-47d0-8a04-049841913ccf"
      },
      "execution_count": 33,
      "outputs": [
        {
          "output_type": "stream",
          "name": "stdout",
          "text": [
            "+-------+---------+--------------------+-------------------+----------------+\n",
            "|race_id|race_year|           race_name|          race_date|circuit_location|\n",
            "+-------+---------+--------------------+-------------------+----------------+\n",
            "|   1053|     2021|Emilia Romagna Gr...|18/04/2021 13:00:00|           Imola|\n",
            "|   1052|     2021|  Bahrain Grand Prix|28/03/2021 15:00:00|          Sakhir|\n",
            "|   1051|     2021|Australian Grand ...|21/11/2021 06:00:00|       Melbourne|\n",
            "|   1054|     2021|                 TBC|      02/05/2021 \\N|         Nürburg|\n",
            "|   1055|     2021|  Spanish Grand Prix|09/05/2021 13:00:00|        Montmeló|\n",
            "|   1056|     2021|   Monaco Grand Prix|23/05/2021 13:00:00|     Monte-Carlo|\n",
            "|   1057|     2021|Azerbaijan Grand ...|06/06/2021 12:00:00|            Baku|\n",
            "|   1058|     2021| Canadian Grand Prix|13/06/2021 18:00:00|        Montreal|\n",
            "|   1059|     2021|   French Grand Prix|27/06/2021 13:00:00|    Le Castellet|\n",
            "|   1060|     2021| Austrian Grand Prix|04/07/2021 13:00:00|       Spielburg|\n",
            "|   1061|     2021|  British Grand Prix|18/07/2021 14:00:00|     Silverstone|\n",
            "|   1062|     2021|Hungarian Grand Prix|01/08/2021 13:00:00|        Budapest|\n",
            "|   1063|     2021|  Belgian Grand Prix|29/08/2021 13:00:00|             Spa|\n",
            "|   1064|     2021|    Dutch Grand Prix|05/09/2021 13:00:00|       Zandvoort|\n",
            "|   1065|     2021|  Italian Grand Prix|12/09/2021 13:00:00|           Monza|\n",
            "|   1066|     2021|  Russian Grand Prix|26/09/2021 12:00:00|           Sochi|\n",
            "|   1067|     2021|Singapore Grand Prix|03/10/2021 12:00:00|      Marina Bay|\n",
            "|   1068|     2021| Japanese Grand Prix|10/10/2021 05:00:00|          Suzuka|\n",
            "|   1069|     2021|United States Gra...|24/10/2021 19:00:00|          Austin|\n",
            "|   1070|     2021|Mexico City Grand...|31/10/2021 19:00:00|     Mexico City|\n",
            "+-------+---------+--------------------+-------------------+----------------+\n",
            "only showing top 20 rows\n",
            "\n"
          ]
        }
      ]
    },
    {
      "cell_type": "markdown",
      "source": [
        "## Join result to all other df's"
      ],
      "metadata": {
        "id": "IUAHOcCzqLsM"
      }
    },
    {
      "cell_type": "code",
      "source": [
        "race_results_df = results_df.join(race_circuit_df, results_df.race_id == race_circuit_df.race_id) \\\n",
        "                            .join(drivers_df, results_df.driver_id == drivers_df.driver_id) \\\n",
        "                            .join(constructors_df, results_df.constructor_id == constructors_df.constructor_id)"
      ],
      "metadata": {
        "id": "xE2iKMqZpS0M"
      },
      "execution_count": 37,
      "outputs": []
    },
    {
      "cell_type": "code",
      "source": [
        "from pyspark.sql.functions import current_timestamp"
      ],
      "metadata": {
        "id": "HWuEz41msESs"
      },
      "execution_count": 39,
      "outputs": []
    },
    {
      "cell_type": "code",
      "source": [
        "final_df = race_results_df.select('race_year', 'race_name', 'race_date', 'circuit_location', 'driver_name', 'driver_number', 'driver_nationality', 'team', 'grid', 'fastest_lap', 'race_time', 'points') \\\n",
        ".withColumn('created_date', current_timestamp())"
      ],
      "metadata": {
        "id": "Z1-1cx0MrYtl"
      },
      "execution_count": 43,
      "outputs": []
    },
    {
      "cell_type": "code",
      "source": [
        "final_df.where(\"race_year == 2020 and race_name == 'Abu Dhabi Grand Prix'\").orderBy(final_df.points.desc()).limit(11).toPandas()"
      ],
      "metadata": {
        "colab": {
          "base_uri": "https://localhost:8080/",
          "height": 394
        },
        "id": "67Wxor9dsNH1",
        "outputId": "14b76bb4-1f3d-4eaa-f254-c88134681078"
      },
      "execution_count": 47,
      "outputs": [
        {
          "output_type": "execute_result",
          "data": {
            "text/plain": [
              "    race_year             race_name            race_date circuit_location  \\\n",
              "0        2020  Abu Dhabi Grand Prix  13/12/2020 13:10:00        Abu Dhabi   \n",
              "1        2020  Abu Dhabi Grand Prix  13/12/2020 13:10:00        Abu Dhabi   \n",
              "2        2020  Abu Dhabi Grand Prix  13/12/2020 13:10:00        Abu Dhabi   \n",
              "3        2020  Abu Dhabi Grand Prix  13/12/2020 13:10:00        Abu Dhabi   \n",
              "4        2020  Abu Dhabi Grand Prix  13/12/2020 13:10:00        Abu Dhabi   \n",
              "5        2020  Abu Dhabi Grand Prix  13/12/2020 13:10:00        Abu Dhabi   \n",
              "6        2020  Abu Dhabi Grand Prix  13/12/2020 13:10:00        Abu Dhabi   \n",
              "7        2020  Abu Dhabi Grand Prix  13/12/2020 13:10:00        Abu Dhabi   \n",
              "8        2020  Abu Dhabi Grand Prix  13/12/2020 13:10:00        Abu Dhabi   \n",
              "9        2020  Abu Dhabi Grand Prix  13/12/2020 13:10:00        Abu Dhabi   \n",
              "10       2020  Abu Dhabi Grand Prix  13/12/2020 13:10:00        Abu Dhabi   \n",
              "\n",
              "         driver_name  driver_number driver_nationality          team  grid  \\\n",
              "0     Max Verstappen             33              Dutch      Red Bull     1   \n",
              "1    Valtteri Bottas             77            Finnish      Mercedes     2   \n",
              "2     Lewis Hamilton             44            British      Mercedes     3   \n",
              "3    Alexander Albon             23               Thai      Red Bull     5   \n",
              "4       Lando Norris              4            British       McLaren     4   \n",
              "5       Carlos Sainz             55            Spanish       McLaren     6   \n",
              "6   Daniel Ricciardo              3         Australian       Renault    11   \n",
              "7       Pierre Gasly             10             French    AlphaTauri     9   \n",
              "8       Esteban Ocon             31             French       Renault    10   \n",
              "9       Lance Stroll             18           Canadian  Racing Point     8   \n",
              "10      Sergio Pérez             11            Mexican  Racing Point    19   \n",
              "\n",
              "    fastest_lap    race_time  points            created_date  \n",
              "0            14  1:36:28.645    25.0 2023-03-25 03:01:43.061  \n",
              "1            40      +15.976    18.0 2023-03-25 03:01:43.061  \n",
              "2            37      +18.415    15.0 2023-03-25 03:01:43.061  \n",
              "3            42      +19.987    12.0 2023-03-25 03:01:43.061  \n",
              "4            53    +1:00.729    10.0 2023-03-25 03:01:43.061  \n",
              "5            48    +1:05.662     8.0 2023-03-25 03:01:43.061  \n",
              "6            55    +1:13.748     7.0 2023-03-25 03:01:43.061  \n",
              "7            53    +1:29.718     4.0 2023-03-25 03:01:43.061  \n",
              "8            47    +1:41.069     2.0 2023-03-25 03:01:43.061  \n",
              "9            41    +1:42.738     1.0 2023-03-25 03:01:43.061  \n",
              "10            6           \\N     0.0 2023-03-25 03:01:43.061  "
            ],
            "text/html": [
              "\n",
              "  <div id=\"df-59050039-4028-4fbc-a5bd-c1740dfde701\">\n",
              "    <div class=\"colab-df-container\">\n",
              "      <div>\n",
              "<style scoped>\n",
              "    .dataframe tbody tr th:only-of-type {\n",
              "        vertical-align: middle;\n",
              "    }\n",
              "\n",
              "    .dataframe tbody tr th {\n",
              "        vertical-align: top;\n",
              "    }\n",
              "\n",
              "    .dataframe thead th {\n",
              "        text-align: right;\n",
              "    }\n",
              "</style>\n",
              "<table border=\"1\" class=\"dataframe\">\n",
              "  <thead>\n",
              "    <tr style=\"text-align: right;\">\n",
              "      <th></th>\n",
              "      <th>race_year</th>\n",
              "      <th>race_name</th>\n",
              "      <th>race_date</th>\n",
              "      <th>circuit_location</th>\n",
              "      <th>driver_name</th>\n",
              "      <th>driver_number</th>\n",
              "      <th>driver_nationality</th>\n",
              "      <th>team</th>\n",
              "      <th>grid</th>\n",
              "      <th>fastest_lap</th>\n",
              "      <th>race_time</th>\n",
              "      <th>points</th>\n",
              "      <th>created_date</th>\n",
              "    </tr>\n",
              "  </thead>\n",
              "  <tbody>\n",
              "    <tr>\n",
              "      <th>0</th>\n",
              "      <td>2020</td>\n",
              "      <td>Abu Dhabi Grand Prix</td>\n",
              "      <td>13/12/2020 13:10:00</td>\n",
              "      <td>Abu Dhabi</td>\n",
              "      <td>Max Verstappen</td>\n",
              "      <td>33</td>\n",
              "      <td>Dutch</td>\n",
              "      <td>Red Bull</td>\n",
              "      <td>1</td>\n",
              "      <td>14</td>\n",
              "      <td>1:36:28.645</td>\n",
              "      <td>25.0</td>\n",
              "      <td>2023-03-25 03:01:43.061</td>\n",
              "    </tr>\n",
              "    <tr>\n",
              "      <th>1</th>\n",
              "      <td>2020</td>\n",
              "      <td>Abu Dhabi Grand Prix</td>\n",
              "      <td>13/12/2020 13:10:00</td>\n",
              "      <td>Abu Dhabi</td>\n",
              "      <td>Valtteri Bottas</td>\n",
              "      <td>77</td>\n",
              "      <td>Finnish</td>\n",
              "      <td>Mercedes</td>\n",
              "      <td>2</td>\n",
              "      <td>40</td>\n",
              "      <td>+15.976</td>\n",
              "      <td>18.0</td>\n",
              "      <td>2023-03-25 03:01:43.061</td>\n",
              "    </tr>\n",
              "    <tr>\n",
              "      <th>2</th>\n",
              "      <td>2020</td>\n",
              "      <td>Abu Dhabi Grand Prix</td>\n",
              "      <td>13/12/2020 13:10:00</td>\n",
              "      <td>Abu Dhabi</td>\n",
              "      <td>Lewis Hamilton</td>\n",
              "      <td>44</td>\n",
              "      <td>British</td>\n",
              "      <td>Mercedes</td>\n",
              "      <td>3</td>\n",
              "      <td>37</td>\n",
              "      <td>+18.415</td>\n",
              "      <td>15.0</td>\n",
              "      <td>2023-03-25 03:01:43.061</td>\n",
              "    </tr>\n",
              "    <tr>\n",
              "      <th>3</th>\n",
              "      <td>2020</td>\n",
              "      <td>Abu Dhabi Grand Prix</td>\n",
              "      <td>13/12/2020 13:10:00</td>\n",
              "      <td>Abu Dhabi</td>\n",
              "      <td>Alexander Albon</td>\n",
              "      <td>23</td>\n",
              "      <td>Thai</td>\n",
              "      <td>Red Bull</td>\n",
              "      <td>5</td>\n",
              "      <td>42</td>\n",
              "      <td>+19.987</td>\n",
              "      <td>12.0</td>\n",
              "      <td>2023-03-25 03:01:43.061</td>\n",
              "    </tr>\n",
              "    <tr>\n",
              "      <th>4</th>\n",
              "      <td>2020</td>\n",
              "      <td>Abu Dhabi Grand Prix</td>\n",
              "      <td>13/12/2020 13:10:00</td>\n",
              "      <td>Abu Dhabi</td>\n",
              "      <td>Lando Norris</td>\n",
              "      <td>4</td>\n",
              "      <td>British</td>\n",
              "      <td>McLaren</td>\n",
              "      <td>4</td>\n",
              "      <td>53</td>\n",
              "      <td>+1:00.729</td>\n",
              "      <td>10.0</td>\n",
              "      <td>2023-03-25 03:01:43.061</td>\n",
              "    </tr>\n",
              "    <tr>\n",
              "      <th>5</th>\n",
              "      <td>2020</td>\n",
              "      <td>Abu Dhabi Grand Prix</td>\n",
              "      <td>13/12/2020 13:10:00</td>\n",
              "      <td>Abu Dhabi</td>\n",
              "      <td>Carlos Sainz</td>\n",
              "      <td>55</td>\n",
              "      <td>Spanish</td>\n",
              "      <td>McLaren</td>\n",
              "      <td>6</td>\n",
              "      <td>48</td>\n",
              "      <td>+1:05.662</td>\n",
              "      <td>8.0</td>\n",
              "      <td>2023-03-25 03:01:43.061</td>\n",
              "    </tr>\n",
              "    <tr>\n",
              "      <th>6</th>\n",
              "      <td>2020</td>\n",
              "      <td>Abu Dhabi Grand Prix</td>\n",
              "      <td>13/12/2020 13:10:00</td>\n",
              "      <td>Abu Dhabi</td>\n",
              "      <td>Daniel Ricciardo</td>\n",
              "      <td>3</td>\n",
              "      <td>Australian</td>\n",
              "      <td>Renault</td>\n",
              "      <td>11</td>\n",
              "      <td>55</td>\n",
              "      <td>+1:13.748</td>\n",
              "      <td>7.0</td>\n",
              "      <td>2023-03-25 03:01:43.061</td>\n",
              "    </tr>\n",
              "    <tr>\n",
              "      <th>7</th>\n",
              "      <td>2020</td>\n",
              "      <td>Abu Dhabi Grand Prix</td>\n",
              "      <td>13/12/2020 13:10:00</td>\n",
              "      <td>Abu Dhabi</td>\n",
              "      <td>Pierre Gasly</td>\n",
              "      <td>10</td>\n",
              "      <td>French</td>\n",
              "      <td>AlphaTauri</td>\n",
              "      <td>9</td>\n",
              "      <td>53</td>\n",
              "      <td>+1:29.718</td>\n",
              "      <td>4.0</td>\n",
              "      <td>2023-03-25 03:01:43.061</td>\n",
              "    </tr>\n",
              "    <tr>\n",
              "      <th>8</th>\n",
              "      <td>2020</td>\n",
              "      <td>Abu Dhabi Grand Prix</td>\n",
              "      <td>13/12/2020 13:10:00</td>\n",
              "      <td>Abu Dhabi</td>\n",
              "      <td>Esteban Ocon</td>\n",
              "      <td>31</td>\n",
              "      <td>French</td>\n",
              "      <td>Renault</td>\n",
              "      <td>10</td>\n",
              "      <td>47</td>\n",
              "      <td>+1:41.069</td>\n",
              "      <td>2.0</td>\n",
              "      <td>2023-03-25 03:01:43.061</td>\n",
              "    </tr>\n",
              "    <tr>\n",
              "      <th>9</th>\n",
              "      <td>2020</td>\n",
              "      <td>Abu Dhabi Grand Prix</td>\n",
              "      <td>13/12/2020 13:10:00</td>\n",
              "      <td>Abu Dhabi</td>\n",
              "      <td>Lance Stroll</td>\n",
              "      <td>18</td>\n",
              "      <td>Canadian</td>\n",
              "      <td>Racing Point</td>\n",
              "      <td>8</td>\n",
              "      <td>41</td>\n",
              "      <td>+1:42.738</td>\n",
              "      <td>1.0</td>\n",
              "      <td>2023-03-25 03:01:43.061</td>\n",
              "    </tr>\n",
              "    <tr>\n",
              "      <th>10</th>\n",
              "      <td>2020</td>\n",
              "      <td>Abu Dhabi Grand Prix</td>\n",
              "      <td>13/12/2020 13:10:00</td>\n",
              "      <td>Abu Dhabi</td>\n",
              "      <td>Sergio Pérez</td>\n",
              "      <td>11</td>\n",
              "      <td>Mexican</td>\n",
              "      <td>Racing Point</td>\n",
              "      <td>19</td>\n",
              "      <td>6</td>\n",
              "      <td>\\N</td>\n",
              "      <td>0.0</td>\n",
              "      <td>2023-03-25 03:01:43.061</td>\n",
              "    </tr>\n",
              "  </tbody>\n",
              "</table>\n",
              "</div>\n",
              "      <button class=\"colab-df-convert\" onclick=\"convertToInteractive('df-59050039-4028-4fbc-a5bd-c1740dfde701')\"\n",
              "              title=\"Convert this dataframe to an interactive table.\"\n",
              "              style=\"display:none;\">\n",
              "        \n",
              "  <svg xmlns=\"http://www.w3.org/2000/svg\" height=\"24px\"viewBox=\"0 0 24 24\"\n",
              "       width=\"24px\">\n",
              "    <path d=\"M0 0h24v24H0V0z\" fill=\"none\"/>\n",
              "    <path d=\"M18.56 5.44l.94 2.06.94-2.06 2.06-.94-2.06-.94-.94-2.06-.94 2.06-2.06.94zm-11 1L8.5 8.5l.94-2.06 2.06-.94-2.06-.94L8.5 2.5l-.94 2.06-2.06.94zm10 10l.94 2.06.94-2.06 2.06-.94-2.06-.94-.94-2.06-.94 2.06-2.06.94z\"/><path d=\"M17.41 7.96l-1.37-1.37c-.4-.4-.92-.59-1.43-.59-.52 0-1.04.2-1.43.59L10.3 9.45l-7.72 7.72c-.78.78-.78 2.05 0 2.83L4 21.41c.39.39.9.59 1.41.59.51 0 1.02-.2 1.41-.59l7.78-7.78 2.81-2.81c.8-.78.8-2.07 0-2.86zM5.41 20L4 18.59l7.72-7.72 1.47 1.35L5.41 20z\"/>\n",
              "  </svg>\n",
              "      </button>\n",
              "      \n",
              "  <style>\n",
              "    .colab-df-container {\n",
              "      display:flex;\n",
              "      flex-wrap:wrap;\n",
              "      gap: 12px;\n",
              "    }\n",
              "\n",
              "    .colab-df-convert {\n",
              "      background-color: #E8F0FE;\n",
              "      border: none;\n",
              "      border-radius: 50%;\n",
              "      cursor: pointer;\n",
              "      display: none;\n",
              "      fill: #1967D2;\n",
              "      height: 32px;\n",
              "      padding: 0 0 0 0;\n",
              "      width: 32px;\n",
              "    }\n",
              "\n",
              "    .colab-df-convert:hover {\n",
              "      background-color: #E2EBFA;\n",
              "      box-shadow: 0px 1px 2px rgba(60, 64, 67, 0.3), 0px 1px 3px 1px rgba(60, 64, 67, 0.15);\n",
              "      fill: #174EA6;\n",
              "    }\n",
              "\n",
              "    [theme=dark] .colab-df-convert {\n",
              "      background-color: #3B4455;\n",
              "      fill: #D2E3FC;\n",
              "    }\n",
              "\n",
              "    [theme=dark] .colab-df-convert:hover {\n",
              "      background-color: #434B5C;\n",
              "      box-shadow: 0px 1px 3px 1px rgba(0, 0, 0, 0.15);\n",
              "      filter: drop-shadow(0px 1px 2px rgba(0, 0, 0, 0.3));\n",
              "      fill: #FFFFFF;\n",
              "    }\n",
              "  </style>\n",
              "\n",
              "      <script>\n",
              "        const buttonEl =\n",
              "          document.querySelector('#df-59050039-4028-4fbc-a5bd-c1740dfde701 button.colab-df-convert');\n",
              "        buttonEl.style.display =\n",
              "          google.colab.kernel.accessAllowed ? 'block' : 'none';\n",
              "\n",
              "        async function convertToInteractive(key) {\n",
              "          const element = document.querySelector('#df-59050039-4028-4fbc-a5bd-c1740dfde701');\n",
              "          const dataTable =\n",
              "            await google.colab.kernel.invokeFunction('convertToInteractive',\n",
              "                                                     [key], {});\n",
              "          if (!dataTable) return;\n",
              "\n",
              "          const docLinkHtml = 'Like what you see? Visit the ' +\n",
              "            '<a target=\"_blank\" href=https://colab.research.google.com/notebooks/data_table.ipynb>data table notebook</a>'\n",
              "            + ' to learn more about interactive tables.';\n",
              "          element.innerHTML = '';\n",
              "          dataTable['output_type'] = 'display_data';\n",
              "          await google.colab.output.renderOutput(dataTable, element);\n",
              "          const docLink = document.createElement('div');\n",
              "          docLink.innerHTML = docLinkHtml;\n",
              "          element.appendChild(docLink);\n",
              "        }\n",
              "      </script>\n",
              "    </div>\n",
              "  </div>\n",
              "  "
            ]
          },
          "metadata": {},
          "execution_count": 47
        }
      ]
    },
    {
      "cell_type": "code",
      "source": [
        "final_df.write.mode('overwrite').parquet('/content/drive/MyDrive/formula1Project/data/presentation/race_results')"
      ],
      "metadata": {
        "id": "m6RqClMCsP50"
      },
      "execution_count": 50,
      "outputs": []
    }
  ]
}