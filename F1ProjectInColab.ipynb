{
  "nbformat": 4,
  "nbformat_minor": 0,
  "metadata": {
    "colab": {
      "provenance": [],
      "collapsed_sections": [
        "pU2ZlM2mDLm9",
        "pqQ0lLJ4DhHc",
        "1PS5_CoBD2Q0",
        "jSIcGi-9EBIl",
        "gwLS7o4CEFSE",
        "o0grVm4wELhM",
        "2aE6W-WrEPcN",
        "GBEY6uMFEmT1",
        "3rwT5-vvEqIl",
        "Kath6f4HExGf",
        "rb2vc9UUE4MF"
      ],
      "authorship_tag": "ABX9TyO0wTmUnCdgIkdS49fF/r1o",
      "include_colab_link": true
    },
    "kernelspec": {
      "name": "python3",
      "display_name": "Python 3"
    },
    "language_info": {
      "name": "python"
    }
  },
  "cells": [
    {
      "cell_type": "markdown",
      "metadata": {
        "id": "view-in-github",
        "colab_type": "text"
      },
      "source": [
        "<a href=\"https://colab.research.google.com/github/PBuenoc/f1ProjectInGoogleColab/blob/main/F1ProjectInColab.ipynb\" target=\"_parent\"><img src=\"https://colab.research.google.com/assets/colab-badge.svg\" alt=\"Open In Colab\"/></a>"
      ]
    },
    {
      "cell_type": "markdown",
      "source": [
        "# Prepare spark environment"
      ],
      "metadata": {
        "id": "pU2ZlM2mDLm9"
      }
    },
    {
      "cell_type": "code",
      "source": [
        "!apt-get install openjdk-8-jdk-headless -qq > /dev/null\n",
        "!wget -q https://archive.apache.org/dist/spark/spark-3.1.2/spark-3.1.2-bin-hadoop2.7.tgz\n",
        "!tar xf spark-3.1.2-bin-hadoop2.7.tgz\n",
        "!pip install -q findspark"
      ],
      "metadata": {
        "id": "Gw3cNTCrg1dN"
      },
      "execution_count": null,
      "outputs": []
    },
    {
      "cell_type": "code",
      "source": [
        "import os\n",
        "os.environ[\"JAVA_HOME\"] = \"/usr/lib/jvm/java-8-openjdk-amd64\"\n",
        "os.environ[\"SPARK_HOME\"] = \"/content/spark-3.1.2-bin-hadoop2.7\""
      ],
      "metadata": {
        "id": "ANLqmU37Lbbw"
      },
      "execution_count": null,
      "outputs": []
    },
    {
      "cell_type": "code",
      "source": [
        "import findspark\n",
        "findspark.init()"
      ],
      "metadata": {
        "id": "1WR8q-sBL-nP"
      },
      "execution_count": 123,
      "outputs": []
    },
    {
      "cell_type": "code",
      "source": [
        "from pyspark.sql import SparkSession\n",
        "spark = SparkSession.builder.master('local[*]').appName(\"Iniciando com Spark\").getOrCreate()"
      ],
      "metadata": {
        "id": "NEpuIzesMP5X"
      },
      "execution_count": 124,
      "outputs": []
    },
    {
      "cell_type": "markdown",
      "source": [
        "# Ingest cirtuits.csv file"
      ],
      "metadata": {
        "id": "pqQ0lLJ4DhHc"
      }
    },
    {
      "cell_type": "code",
      "source": [
        "circuits_df = spark.read.csv('/content/formula1/data/raw/circuits2.csv',inferSchema=True, header=True, sep=';')"
      ],
      "metadata": {
        "id": "nFEAMzx0M2lY"
      },
      "execution_count": 125,
      "outputs": []
    },
    {
      "cell_type": "code",
      "source": [
        "circuits_df.show()"
      ],
      "metadata": {
        "colab": {
          "base_uri": "https://localhost:8080/"
        },
        "id": "dMUk5DI3M6-Q",
        "outputId": "756176cc-ea70-4c49-8ad1-efc40e4951f1"
      },
      "execution_count": 126,
      "outputs": [
        {
          "output_type": "stream",
          "name": "stdout",
          "text": [
            "+---------+--------------+--------------------+------------+---------+-------+-------+---+--------------------+\n",
            "|circuitId|    circuitRef|                name|    location|  country|    lat|    lng|alt|                 url|\n",
            "+---------+--------------+--------------------+------------+---------+-------+-------+---+--------------------+\n",
            "|        1|   albert_park|Albert Park Grand...|   Melbourne|Australia|-378497| 144968| 10|http://en.wikiped...|\n",
            "|        2|        sepang|Sepang Internatio...|Kuala Lumpur| Malaysia| 276083| 101738| 18|http://en.wikiped...|\n",
            "|        3|       bahrain|Bahrain Internati...|      Sakhir|  Bahrain| 260325| 505106|  7|http://en.wikiped...|\n",
            "|        4|     catalunya|Circuit de Barcel...|    Montmeló|    Spain|   4157| 226111|109|http://en.wikiped...|\n",
            "|        5|      istanbul|       Istanbul Park|    Istanbul|   Turkey| 409517|  29405|130|http://en.wikiped...|\n",
            "|        6|        monaco|   Circuit de Monaco| Monte-Carlo|   Monaco| 437347| 742056|  7|http://en.wikiped...|\n",
            "|        7|    villeneuve|Circuit Gilles Vi...|    Montreal|   Canada|    455|-735228| 13|http://en.wikiped...|\n",
            "|        8|   magny_cours|Circuit de Nevers...| Magny Cours|   France| 468642| 316361|228|http://en.wikiped...|\n",
            "|        9|   silverstone| Silverstone Circuit| Silverstone|       UK| 520786|-101694|153|http://en.wikiped...|\n",
            "|       10|hockenheimring|      Hockenheimring|  Hockenheim|  Germany| 493278| 856583|103|http://en.wikiped...|\n",
            "|       11|   hungaroring|         Hungaroring|    Budapest|  Hungary| 475789| 192486|264|http://en.wikiped...|\n",
            "|       12|      valencia|Valencia Street C...|    Valencia|    Spain| 394589|-331667|  4|http://en.wikiped...|\n",
            "|       13|           spa|Circuit de Spa-Fr...|         Spa|  Belgium| 504372| 597139|401|http://en.wikiped...|\n",
            "|       14|         monza|Autodromo Naziona...|       Monza|    Italy| 456156| 928111|162|http://en.wikiped...|\n",
            "|       15|    marina_bay|Marina Bay Street...|  Marina Bay|Singapore|  12914| 103864| 18|http://en.wikiped...|\n",
            "|       16|          fuji|       Fuji Speedway|       Oyama|    Japan| 353717| 138927|583|http://en.wikiped...|\n",
            "|       17|      shanghai|Shanghai Internat...|    Shanghai|    China| 313389|  12122|  5|http://en.wikiped...|\n",
            "|       18|    interlagos|Autódromo José Ca...|   São Paulo|   Brazil|-237036|-466997|785|http://en.wikiped...|\n",
            "|       19|  indianapolis|Indianapolis Moto...|Indianapolis|      USA|  39795|-862347|223|http://en.wikiped...|\n",
            "|       20|   nurburgring|         Nürburgring|     Nürburg|  Germany| 503356|  69475|578|http://en.wikiped...|\n",
            "+---------+--------------+--------------------+------------+---------+-------+-------+---+--------------------+\n",
            "only showing top 20 rows\n",
            "\n"
          ]
        }
      ]
    },
    {
      "cell_type": "markdown",
      "source": [
        "### Select only the columns required"
      ],
      "metadata": {
        "id": "1PS5_CoBD2Q0"
      }
    },
    {
      "cell_type": "code",
      "source": [
        "circuits_df = circuits_df.select('circuitId', 'circuitRef', 'name', 'location', 'country', 'lat', 'lng', 'alt')\n",
        "circuits_df.show()"
      ],
      "metadata": {
        "colab": {
          "base_uri": "https://localhost:8080/"
        },
        "id": "xuxEzkvjr4SG",
        "outputId": "c5833fc9-910a-423e-a226-9ca5d818d9e7"
      },
      "execution_count": 127,
      "outputs": [
        {
          "output_type": "stream",
          "name": "stdout",
          "text": [
            "+---------+--------------+--------------------+------------+---------+-------+-------+---+\n",
            "|circuitId|    circuitRef|                name|    location|  country|    lat|    lng|alt|\n",
            "+---------+--------------+--------------------+------------+---------+-------+-------+---+\n",
            "|        1|   albert_park|Albert Park Grand...|   Melbourne|Australia|-378497| 144968| 10|\n",
            "|        2|        sepang|Sepang Internatio...|Kuala Lumpur| Malaysia| 276083| 101738| 18|\n",
            "|        3|       bahrain|Bahrain Internati...|      Sakhir|  Bahrain| 260325| 505106|  7|\n",
            "|        4|     catalunya|Circuit de Barcel...|    Montmeló|    Spain|   4157| 226111|109|\n",
            "|        5|      istanbul|       Istanbul Park|    Istanbul|   Turkey| 409517|  29405|130|\n",
            "|        6|        monaco|   Circuit de Monaco| Monte-Carlo|   Monaco| 437347| 742056|  7|\n",
            "|        7|    villeneuve|Circuit Gilles Vi...|    Montreal|   Canada|    455|-735228| 13|\n",
            "|        8|   magny_cours|Circuit de Nevers...| Magny Cours|   France| 468642| 316361|228|\n",
            "|        9|   silverstone| Silverstone Circuit| Silverstone|       UK| 520786|-101694|153|\n",
            "|       10|hockenheimring|      Hockenheimring|  Hockenheim|  Germany| 493278| 856583|103|\n",
            "|       11|   hungaroring|         Hungaroring|    Budapest|  Hungary| 475789| 192486|264|\n",
            "|       12|      valencia|Valencia Street C...|    Valencia|    Spain| 394589|-331667|  4|\n",
            "|       13|           spa|Circuit de Spa-Fr...|         Spa|  Belgium| 504372| 597139|401|\n",
            "|       14|         monza|Autodromo Naziona...|       Monza|    Italy| 456156| 928111|162|\n",
            "|       15|    marina_bay|Marina Bay Street...|  Marina Bay|Singapore|  12914| 103864| 18|\n",
            "|       16|          fuji|       Fuji Speedway|       Oyama|    Japan| 353717| 138927|583|\n",
            "|       17|      shanghai|Shanghai Internat...|    Shanghai|    China| 313389|  12122|  5|\n",
            "|       18|    interlagos|Autódromo José Ca...|   São Paulo|   Brazil|-237036|-466997|785|\n",
            "|       19|  indianapolis|Indianapolis Moto...|Indianapolis|      USA|  39795|-862347|223|\n",
            "|       20|   nurburgring|         Nürburgring|     Nürburg|  Germany| 503356|  69475|578|\n",
            "+---------+--------------+--------------------+------------+---------+-------+-------+---+\n",
            "only showing top 20 rows\n",
            "\n"
          ]
        }
      ]
    },
    {
      "cell_type": "markdown",
      "source": [
        "### Renamed the columns as required"
      ],
      "metadata": {
        "id": "jSIcGi-9EBIl"
      }
    },
    {
      "cell_type": "code",
      "source": [
        "circuits_df = circuits_df.withColumnRenamed('circuitId', 'circuit_id') \\\n",
        ".withColumnRenamed('circuitRef', 'circuit_ref') \\\n",
        ".withColumnRenamed('lat','latitude') \\\n",
        ".withColumnRenamed('lng','longitude') \\\n",
        ".withColumnRenamed('alt','altitude')\n",
        "circuits_df.show()"
      ],
      "metadata": {
        "colab": {
          "base_uri": "https://localhost:8080/"
        },
        "id": "B7Wki6VTpGxd",
        "outputId": "f5e36c77-63d7-4978-91b0-d138300fa4e0"
      },
      "execution_count": 128,
      "outputs": [
        {
          "output_type": "stream",
          "name": "stdout",
          "text": [
            "+----------+--------------+--------------------+------------+---------+--------+---------+--------+\n",
            "|circuit_id|   circuit_ref|                name|    location|  country|latitude|longitude|altitude|\n",
            "+----------+--------------+--------------------+------------+---------+--------+---------+--------+\n",
            "|         1|   albert_park|Albert Park Grand...|   Melbourne|Australia| -378497|   144968|      10|\n",
            "|         2|        sepang|Sepang Internatio...|Kuala Lumpur| Malaysia|  276083|   101738|      18|\n",
            "|         3|       bahrain|Bahrain Internati...|      Sakhir|  Bahrain|  260325|   505106|       7|\n",
            "|         4|     catalunya|Circuit de Barcel...|    Montmeló|    Spain|    4157|   226111|     109|\n",
            "|         5|      istanbul|       Istanbul Park|    Istanbul|   Turkey|  409517|    29405|     130|\n",
            "|         6|        monaco|   Circuit de Monaco| Monte-Carlo|   Monaco|  437347|   742056|       7|\n",
            "|         7|    villeneuve|Circuit Gilles Vi...|    Montreal|   Canada|     455|  -735228|      13|\n",
            "|         8|   magny_cours|Circuit de Nevers...| Magny Cours|   France|  468642|   316361|     228|\n",
            "|         9|   silverstone| Silverstone Circuit| Silverstone|       UK|  520786|  -101694|     153|\n",
            "|        10|hockenheimring|      Hockenheimring|  Hockenheim|  Germany|  493278|   856583|     103|\n",
            "|        11|   hungaroring|         Hungaroring|    Budapest|  Hungary|  475789|   192486|     264|\n",
            "|        12|      valencia|Valencia Street C...|    Valencia|    Spain|  394589|  -331667|       4|\n",
            "|        13|           spa|Circuit de Spa-Fr...|         Spa|  Belgium|  504372|   597139|     401|\n",
            "|        14|         monza|Autodromo Naziona...|       Monza|    Italy|  456156|   928111|     162|\n",
            "|        15|    marina_bay|Marina Bay Street...|  Marina Bay|Singapore|   12914|   103864|      18|\n",
            "|        16|          fuji|       Fuji Speedway|       Oyama|    Japan|  353717|   138927|     583|\n",
            "|        17|      shanghai|Shanghai Internat...|    Shanghai|    China|  313389|    12122|       5|\n",
            "|        18|    interlagos|Autódromo José Ca...|   São Paulo|   Brazil| -237036|  -466997|     785|\n",
            "|        19|  indianapolis|Indianapolis Moto...|Indianapolis|      USA|   39795|  -862347|     223|\n",
            "|        20|   nurburgring|         Nürburgring|     Nürburg|  Germany|  503356|    69475|     578|\n",
            "+----------+--------------+--------------------+------------+---------+--------+---------+--------+\n",
            "only showing top 20 rows\n",
            "\n"
          ]
        }
      ]
    },
    {
      "cell_type": "markdown",
      "source": [
        "### Add ingestion_date column"
      ],
      "metadata": {
        "id": "gwLS7o4CEFSE"
      }
    },
    {
      "cell_type": "code",
      "source": [
        "from pyspark.sql.functions import current_timestamp"
      ],
      "metadata": {
        "id": "_246Ktopu5vH"
      },
      "execution_count": 129,
      "outputs": []
    },
    {
      "cell_type": "code",
      "source": [
        "circuits_df = circuits_df.withColumn('ingestion_date', current_timestamp())\n",
        "circuits_df.show()"
      ],
      "metadata": {
        "colab": {
          "base_uri": "https://localhost:8080/"
        },
        "id": "kPowGTxWvGJX",
        "outputId": "f8214e8a-7703-45ba-d54d-7d68d20a9818"
      },
      "execution_count": 130,
      "outputs": [
        {
          "output_type": "stream",
          "name": "stdout",
          "text": [
            "+----------+--------------+--------------------+------------+---------+--------+---------+--------+--------------------+\n",
            "|circuit_id|   circuit_ref|                name|    location|  country|latitude|longitude|altitude|      ingestion_date|\n",
            "+----------+--------------+--------------------+------------+---------+--------+---------+--------+--------------------+\n",
            "|         1|   albert_park|Albert Park Grand...|   Melbourne|Australia| -378497|   144968|      10|2023-03-15 20:48:...|\n",
            "|         2|        sepang|Sepang Internatio...|Kuala Lumpur| Malaysia|  276083|   101738|      18|2023-03-15 20:48:...|\n",
            "|         3|       bahrain|Bahrain Internati...|      Sakhir|  Bahrain|  260325|   505106|       7|2023-03-15 20:48:...|\n",
            "|         4|     catalunya|Circuit de Barcel...|    Montmeló|    Spain|    4157|   226111|     109|2023-03-15 20:48:...|\n",
            "|         5|      istanbul|       Istanbul Park|    Istanbul|   Turkey|  409517|    29405|     130|2023-03-15 20:48:...|\n",
            "|         6|        monaco|   Circuit de Monaco| Monte-Carlo|   Monaco|  437347|   742056|       7|2023-03-15 20:48:...|\n",
            "|         7|    villeneuve|Circuit Gilles Vi...|    Montreal|   Canada|     455|  -735228|      13|2023-03-15 20:48:...|\n",
            "|         8|   magny_cours|Circuit de Nevers...| Magny Cours|   France|  468642|   316361|     228|2023-03-15 20:48:...|\n",
            "|         9|   silverstone| Silverstone Circuit| Silverstone|       UK|  520786|  -101694|     153|2023-03-15 20:48:...|\n",
            "|        10|hockenheimring|      Hockenheimring|  Hockenheim|  Germany|  493278|   856583|     103|2023-03-15 20:48:...|\n",
            "|        11|   hungaroring|         Hungaroring|    Budapest|  Hungary|  475789|   192486|     264|2023-03-15 20:48:...|\n",
            "|        12|      valencia|Valencia Street C...|    Valencia|    Spain|  394589|  -331667|       4|2023-03-15 20:48:...|\n",
            "|        13|           spa|Circuit de Spa-Fr...|         Spa|  Belgium|  504372|   597139|     401|2023-03-15 20:48:...|\n",
            "|        14|         monza|Autodromo Naziona...|       Monza|    Italy|  456156|   928111|     162|2023-03-15 20:48:...|\n",
            "|        15|    marina_bay|Marina Bay Street...|  Marina Bay|Singapore|   12914|   103864|      18|2023-03-15 20:48:...|\n",
            "|        16|          fuji|       Fuji Speedway|       Oyama|    Japan|  353717|   138927|     583|2023-03-15 20:48:...|\n",
            "|        17|      shanghai|Shanghai Internat...|    Shanghai|    China|  313389|    12122|       5|2023-03-15 20:48:...|\n",
            "|        18|    interlagos|Autódromo José Ca...|   São Paulo|   Brazil| -237036|  -466997|     785|2023-03-15 20:48:...|\n",
            "|        19|  indianapolis|Indianapolis Moto...|Indianapolis|      USA|   39795|  -862347|     223|2023-03-15 20:48:...|\n",
            "|        20|   nurburgring|         Nürburgring|     Nürburg|  Germany|  503356|    69475|     578|2023-03-15 20:48:...|\n",
            "+----------+--------------+--------------------+------------+---------+--------+---------+--------+--------------------+\n",
            "only showing top 20 rows\n",
            "\n"
          ]
        }
      ]
    },
    {
      "cell_type": "code",
      "source": [
        "circuits_df.printSchema()"
      ],
      "metadata": {
        "colab": {
          "base_uri": "https://localhost:8080/"
        },
        "id": "xUNi72_-vWlQ",
        "outputId": "3dfb2acc-0be7-43d1-aebb-947b1aee5066"
      },
      "execution_count": 131,
      "outputs": [
        {
          "output_type": "stream",
          "name": "stdout",
          "text": [
            "root\n",
            " |-- circuit_id: integer (nullable = true)\n",
            " |-- circuit_ref: string (nullable = true)\n",
            " |-- name: string (nullable = true)\n",
            " |-- location: string (nullable = true)\n",
            " |-- country: string (nullable = true)\n",
            " |-- latitude: integer (nullable = true)\n",
            " |-- longitude: integer (nullable = true)\n",
            " |-- altitude: integer (nullable = true)\n",
            " |-- ingestion_date: timestamp (nullable = false)\n",
            "\n"
          ]
        }
      ]
    },
    {
      "cell_type": "markdown",
      "source": [
        "### Specify the types as required"
      ],
      "metadata": {
        "id": "o0grVm4wELhM"
      }
    },
    {
      "cell_type": "code",
      "source": [
        "circuits_df = circuits_df.withColumn('latitude', circuits_df['latitude'].cast('double')) \\\n",
        ".withColumn('longitude', circuits_df['longitude'].cast('double')) \\\n",
        ".withColumn('altitude', circuits_df['altitude'].cast('integer'))\n",
        "circuits_df.printSchema()"
      ],
      "metadata": {
        "colab": {
          "base_uri": "https://localhost:8080/"
        },
        "id": "lDS9NPySwWnA",
        "outputId": "ec0d489f-dbc8-46d3-db49-e15193cb5a00"
      },
      "execution_count": 132,
      "outputs": [
        {
          "output_type": "stream",
          "name": "stdout",
          "text": [
            "root\n",
            " |-- circuit_id: integer (nullable = true)\n",
            " |-- circuit_ref: string (nullable = true)\n",
            " |-- name: string (nullable = true)\n",
            " |-- location: string (nullable = true)\n",
            " |-- country: string (nullable = true)\n",
            " |-- latitude: double (nullable = true)\n",
            " |-- longitude: double (nullable = true)\n",
            " |-- altitude: integer (nullable = true)\n",
            " |-- ingestion_date: timestamp (nullable = false)\n",
            "\n"
          ]
        }
      ]
    },
    {
      "cell_type": "markdown",
      "source": [
        "### Write the data in parquet format on processed folder"
      ],
      "metadata": {
        "id": "2aE6W-WrEPcN"
      }
    },
    {
      "cell_type": "code",
      "source": [
        "circuits_df.write.mode('overwrite').parquet('/content/formula1/data/processed/cirtuits')"
      ],
      "metadata": {
        "id": "p82B_aXZxP8w"
      },
      "execution_count": 133,
      "outputs": []
    },
    {
      "cell_type": "code",
      "source": [
        "spark.read.parquet('/content/formula1/data/processed/cirtuits').show()"
      ],
      "metadata": {
        "colab": {
          "base_uri": "https://localhost:8080/"
        },
        "id": "xme82LqayEWI",
        "outputId": "80730b76-9b13-4cdb-b355-3fc14bea08a4"
      },
      "execution_count": 134,
      "outputs": [
        {
          "output_type": "stream",
          "name": "stdout",
          "text": [
            "+----------+--------------+--------------------+------------+---------+---------+---------+--------+--------------------+\n",
            "|circuit_id|   circuit_ref|                name|    location|  country| latitude|longitude|altitude|      ingestion_date|\n",
            "+----------+--------------+--------------------+------------+---------+---------+---------+--------+--------------------+\n",
            "|         1|   albert_park|Albert Park Grand...|   Melbourne|Australia|-378497.0| 144968.0|      10|2023-03-15 20:48:...|\n",
            "|         2|        sepang|Sepang Internatio...|Kuala Lumpur| Malaysia| 276083.0| 101738.0|      18|2023-03-15 20:48:...|\n",
            "|         3|       bahrain|Bahrain Internati...|      Sakhir|  Bahrain| 260325.0| 505106.0|       7|2023-03-15 20:48:...|\n",
            "|         4|     catalunya|Circuit de Barcel...|    Montmeló|    Spain|   4157.0| 226111.0|     109|2023-03-15 20:48:...|\n",
            "|         5|      istanbul|       Istanbul Park|    Istanbul|   Turkey| 409517.0|  29405.0|     130|2023-03-15 20:48:...|\n",
            "|         6|        monaco|   Circuit de Monaco| Monte-Carlo|   Monaco| 437347.0| 742056.0|       7|2023-03-15 20:48:...|\n",
            "|         7|    villeneuve|Circuit Gilles Vi...|    Montreal|   Canada|    455.0|-735228.0|      13|2023-03-15 20:48:...|\n",
            "|         8|   magny_cours|Circuit de Nevers...| Magny Cours|   France| 468642.0| 316361.0|     228|2023-03-15 20:48:...|\n",
            "|         9|   silverstone| Silverstone Circuit| Silverstone|       UK| 520786.0|-101694.0|     153|2023-03-15 20:48:...|\n",
            "|        10|hockenheimring|      Hockenheimring|  Hockenheim|  Germany| 493278.0| 856583.0|     103|2023-03-15 20:48:...|\n",
            "|        11|   hungaroring|         Hungaroring|    Budapest|  Hungary| 475789.0| 192486.0|     264|2023-03-15 20:48:...|\n",
            "|        12|      valencia|Valencia Street C...|    Valencia|    Spain| 394589.0|-331667.0|       4|2023-03-15 20:48:...|\n",
            "|        13|           spa|Circuit de Spa-Fr...|         Spa|  Belgium| 504372.0| 597139.0|     401|2023-03-15 20:48:...|\n",
            "|        14|         monza|Autodromo Naziona...|       Monza|    Italy| 456156.0| 928111.0|     162|2023-03-15 20:48:...|\n",
            "|        15|    marina_bay|Marina Bay Street...|  Marina Bay|Singapore|  12914.0| 103864.0|      18|2023-03-15 20:48:...|\n",
            "|        16|          fuji|       Fuji Speedway|       Oyama|    Japan| 353717.0| 138927.0|     583|2023-03-15 20:48:...|\n",
            "|        17|      shanghai|Shanghai Internat...|    Shanghai|    China| 313389.0|  12122.0|       5|2023-03-15 20:48:...|\n",
            "|        18|    interlagos|Autódromo José Ca...|   São Paulo|   Brazil|-237036.0|-466997.0|     785|2023-03-15 20:48:...|\n",
            "|        19|  indianapolis|Indianapolis Moto...|Indianapolis|      USA|  39795.0|-862347.0|     223|2023-03-15 20:48:...|\n",
            "|        20|   nurburgring|         Nürburgring|     Nürburg|  Germany| 503356.0|  69475.0|     578|2023-03-15 20:48:...|\n",
            "+----------+--------------+--------------------+------------+---------+---------+---------+--------+--------------------+\n",
            "only showing top 20 rows\n",
            "\n"
          ]
        }
      ]
    },
    {
      "cell_type": "code",
      "source": [
        "spark.read.parquet('/content/formula1/data/processed/cirtuits').printSchema()"
      ],
      "metadata": {
        "colab": {
          "base_uri": "https://localhost:8080/"
        },
        "id": "seB-MQImyKYB",
        "outputId": "219a84a1-c65a-4e43-b422-b77f10d588c6"
      },
      "execution_count": 135,
      "outputs": [
        {
          "output_type": "stream",
          "name": "stdout",
          "text": [
            "root\n",
            " |-- circuit_id: integer (nullable = true)\n",
            " |-- circuit_ref: string (nullable = true)\n",
            " |-- name: string (nullable = true)\n",
            " |-- location: string (nullable = true)\n",
            " |-- country: string (nullable = true)\n",
            " |-- latitude: double (nullable = true)\n",
            " |-- longitude: double (nullable = true)\n",
            " |-- altitude: integer (nullable = true)\n",
            " |-- ingestion_date: timestamp (nullable = true)\n",
            "\n"
          ]
        }
      ]
    },
    {
      "cell_type": "markdown",
      "source": [],
      "metadata": {
        "id": "VZm4K-DWEd9N"
      }
    },
    {
      "cell_type": "markdown",
      "source": [
        "# Ingest races.csv"
      ],
      "metadata": {
        "id": "GBEY6uMFEmT1"
      }
    },
    {
      "cell_type": "code",
      "source": [
        "races_df = spark.read.csv('/content/formula1/data/raw/races2.csv', header=True, inferSchema=True, sep=';')\n",
        "races_df.show()"
      ],
      "metadata": {
        "colab": {
          "base_uri": "https://localhost:8080/"
        },
        "id": "ECm8bxcF22M1",
        "outputId": "ce326aa5-ed1b-4ed3-af3c-6f11247732bd"
      },
      "execution_count": 136,
      "outputs": [
        {
          "output_type": "stream",
          "name": "stdout",
          "text": [
            "+------+----+-----+---------+--------------------+----------+--------+--------------------+\n",
            "|raceId|year|round|circuitId|                name|      date|    time|                 url|\n",
            "+------+----+-----+---------+--------------------+----------+--------+--------------------+\n",
            "|     1|2009|    1|        1|Australian Grand ...|29/03/2009|06:00:00|http://en.wikiped...|\n",
            "|     2|2009|    2|        2|Malaysian Grand Prix|05/04/2009|09:00:00|http://en.wikiped...|\n",
            "|     3|2009|    3|       17|  Chinese Grand Prix|19/04/2009|07:00:00|http://en.wikiped...|\n",
            "|     4|2009|    4|        3|  Bahrain Grand Prix|26/04/2009|12:00:00|http://en.wikiped...|\n",
            "|     5|2009|    5|        4|  Spanish Grand Prix|10/05/2009|12:00:00|http://en.wikiped...|\n",
            "|     6|2009|    6|        6|   Monaco Grand Prix|24/05/2009|12:00:00|http://en.wikiped...|\n",
            "|     7|2009|    7|        5|  Turkish Grand Prix|07/06/2009|12:00:00|http://en.wikiped...|\n",
            "|     8|2009|    8|        9|  British Grand Prix|21/06/2009|12:00:00|http://en.wikiped...|\n",
            "|     9|2009|    9|       20|   German Grand Prix|12/07/2009|12:00:00|http://en.wikiped...|\n",
            "|    10|2009|   10|       11|Hungarian Grand Prix|26/07/2009|12:00:00|http://en.wikiped...|\n",
            "|    11|2009|   11|       12| European Grand Prix|23/08/2009|12:00:00|http://en.wikiped...|\n",
            "|    12|2009|   12|       13|  Belgian Grand Prix|30/08/2009|12:00:00|http://en.wikiped...|\n",
            "|    13|2009|   13|       14|  Italian Grand Prix|13/09/2009|12:00:00|http://en.wikiped...|\n",
            "|    14|2009|   14|       15|Singapore Grand Prix|27/09/2009|12:00:00|http://en.wikiped...|\n",
            "|    15|2009|   15|       22| Japanese Grand Prix|04/10/2009|05:00:00|http://en.wikiped...|\n",
            "|    16|2009|   16|       18|Brazilian Grand Prix|18/10/2009|16:00:00|http://en.wikiped...|\n",
            "|    17|2009|   17|       24|Abu Dhabi Grand Prix|01/11/2009|11:00:00|http://en.wikiped...|\n",
            "|    18|2008|    1|        1|Australian Grand ...|16/03/2008|04:30:00|http://en.wikiped...|\n",
            "|    19|2008|    2|        2|Malaysian Grand Prix|23/03/2008|07:00:00|http://en.wikiped...|\n",
            "|    20|2008|    3|        3|  Bahrain Grand Prix|06/04/2008|11:30:00|http://en.wikiped...|\n",
            "+------+----+-----+---------+--------------------+----------+--------+--------------------+\n",
            "only showing top 20 rows\n",
            "\n"
          ]
        }
      ]
    },
    {
      "cell_type": "markdown",
      "source": [
        "### Add the required columns"
      ],
      "metadata": {
        "id": "3rwT5-vvEqIl"
      }
    },
    {
      "cell_type": "code",
      "source": [
        "from pyspark.sql.functions import col, concat, lit"
      ],
      "metadata": {
        "id": "ud7mgeJI9NB4"
      },
      "execution_count": 137,
      "outputs": []
    },
    {
      "cell_type": "code",
      "source": [
        "races_df = races_df.withColumn('ingestion_date', current_timestamp()) \\\n",
        ".withColumn('race_timestamp',concat(col('date'), lit(' '), col('time')))\n",
        "races_df.show()"
      ],
      "metadata": {
        "colab": {
          "base_uri": "https://localhost:8080/"
        },
        "id": "hMjY_hA28iAA",
        "outputId": "a5a3f54f-2813-4481-9e36-5ae9382c1a1e"
      },
      "execution_count": 138,
      "outputs": [
        {
          "output_type": "stream",
          "name": "stdout",
          "text": [
            "+------+----+-----+---------+--------------------+----------+--------+--------------------+--------------------+-------------------+\n",
            "|raceId|year|round|circuitId|                name|      date|    time|                 url|      ingestion_date|     race_timestamp|\n",
            "+------+----+-----+---------+--------------------+----------+--------+--------------------+--------------------+-------------------+\n",
            "|     1|2009|    1|        1|Australian Grand ...|29/03/2009|06:00:00|http://en.wikiped...|2023-03-15 20:48:...|29/03/2009 06:00:00|\n",
            "|     2|2009|    2|        2|Malaysian Grand Prix|05/04/2009|09:00:00|http://en.wikiped...|2023-03-15 20:48:...|05/04/2009 09:00:00|\n",
            "|     3|2009|    3|       17|  Chinese Grand Prix|19/04/2009|07:00:00|http://en.wikiped...|2023-03-15 20:48:...|19/04/2009 07:00:00|\n",
            "|     4|2009|    4|        3|  Bahrain Grand Prix|26/04/2009|12:00:00|http://en.wikiped...|2023-03-15 20:48:...|26/04/2009 12:00:00|\n",
            "|     5|2009|    5|        4|  Spanish Grand Prix|10/05/2009|12:00:00|http://en.wikiped...|2023-03-15 20:48:...|10/05/2009 12:00:00|\n",
            "|     6|2009|    6|        6|   Monaco Grand Prix|24/05/2009|12:00:00|http://en.wikiped...|2023-03-15 20:48:...|24/05/2009 12:00:00|\n",
            "|     7|2009|    7|        5|  Turkish Grand Prix|07/06/2009|12:00:00|http://en.wikiped...|2023-03-15 20:48:...|07/06/2009 12:00:00|\n",
            "|     8|2009|    8|        9|  British Grand Prix|21/06/2009|12:00:00|http://en.wikiped...|2023-03-15 20:48:...|21/06/2009 12:00:00|\n",
            "|     9|2009|    9|       20|   German Grand Prix|12/07/2009|12:00:00|http://en.wikiped...|2023-03-15 20:48:...|12/07/2009 12:00:00|\n",
            "|    10|2009|   10|       11|Hungarian Grand Prix|26/07/2009|12:00:00|http://en.wikiped...|2023-03-15 20:48:...|26/07/2009 12:00:00|\n",
            "|    11|2009|   11|       12| European Grand Prix|23/08/2009|12:00:00|http://en.wikiped...|2023-03-15 20:48:...|23/08/2009 12:00:00|\n",
            "|    12|2009|   12|       13|  Belgian Grand Prix|30/08/2009|12:00:00|http://en.wikiped...|2023-03-15 20:48:...|30/08/2009 12:00:00|\n",
            "|    13|2009|   13|       14|  Italian Grand Prix|13/09/2009|12:00:00|http://en.wikiped...|2023-03-15 20:48:...|13/09/2009 12:00:00|\n",
            "|    14|2009|   14|       15|Singapore Grand Prix|27/09/2009|12:00:00|http://en.wikiped...|2023-03-15 20:48:...|27/09/2009 12:00:00|\n",
            "|    15|2009|   15|       22| Japanese Grand Prix|04/10/2009|05:00:00|http://en.wikiped...|2023-03-15 20:48:...|04/10/2009 05:00:00|\n",
            "|    16|2009|   16|       18|Brazilian Grand Prix|18/10/2009|16:00:00|http://en.wikiped...|2023-03-15 20:48:...|18/10/2009 16:00:00|\n",
            "|    17|2009|   17|       24|Abu Dhabi Grand Prix|01/11/2009|11:00:00|http://en.wikiped...|2023-03-15 20:48:...|01/11/2009 11:00:00|\n",
            "|    18|2008|    1|        1|Australian Grand ...|16/03/2008|04:30:00|http://en.wikiped...|2023-03-15 20:48:...|16/03/2008 04:30:00|\n",
            "|    19|2008|    2|        2|Malaysian Grand Prix|23/03/2008|07:00:00|http://en.wikiped...|2023-03-15 20:48:...|23/03/2008 07:00:00|\n",
            "|    20|2008|    3|        3|  Bahrain Grand Prix|06/04/2008|11:30:00|http://en.wikiped...|2023-03-15 20:48:...|06/04/2008 11:30:00|\n",
            "+------+----+-----+---------+--------------------+----------+--------+--------------------+--------------------+-------------------+\n",
            "only showing top 20 rows\n",
            "\n"
          ]
        }
      ]
    },
    {
      "cell_type": "markdown",
      "source": [
        "### Select only the required columns"
      ],
      "metadata": {
        "id": "Kath6f4HExGf"
      }
    },
    {
      "cell_type": "code",
      "source": [
        "races_df = races_df.select(col('raceId').alias('race_id'),\n",
        "                           col('year').alias('race_year'), \n",
        "                           col('round'), \n",
        "                           col('circuitId').alias('circuit_id'),\n",
        "                           col('name'),\n",
        "                           col('ingestion_date'),\n",
        "                           col('race_timestamp'))"
      ],
      "metadata": {
        "id": "DoFFb-3O9igY"
      },
      "execution_count": 139,
      "outputs": []
    },
    {
      "cell_type": "code",
      "source": [
        "races_df.show()"
      ],
      "metadata": {
        "colab": {
          "base_uri": "https://localhost:8080/"
        },
        "id": "VcLuXk_9CI9s",
        "outputId": "bd7dfd6f-b474-43e0-c2ec-7711a8742f71"
      },
      "execution_count": 140,
      "outputs": [
        {
          "output_type": "stream",
          "name": "stdout",
          "text": [
            "+-------+---------+-----+----------+--------------------+--------------------+-------------------+\n",
            "|race_id|race_year|round|circuit_id|                name|      ingestion_date|     race_timestamp|\n",
            "+-------+---------+-----+----------+--------------------+--------------------+-------------------+\n",
            "|      1|     2009|    1|         1|Australian Grand ...|2023-03-15 20:49:...|29/03/2009 06:00:00|\n",
            "|      2|     2009|    2|         2|Malaysian Grand Prix|2023-03-15 20:49:...|05/04/2009 09:00:00|\n",
            "|      3|     2009|    3|        17|  Chinese Grand Prix|2023-03-15 20:49:...|19/04/2009 07:00:00|\n",
            "|      4|     2009|    4|         3|  Bahrain Grand Prix|2023-03-15 20:49:...|26/04/2009 12:00:00|\n",
            "|      5|     2009|    5|         4|  Spanish Grand Prix|2023-03-15 20:49:...|10/05/2009 12:00:00|\n",
            "|      6|     2009|    6|         6|   Monaco Grand Prix|2023-03-15 20:49:...|24/05/2009 12:00:00|\n",
            "|      7|     2009|    7|         5|  Turkish Grand Prix|2023-03-15 20:49:...|07/06/2009 12:00:00|\n",
            "|      8|     2009|    8|         9|  British Grand Prix|2023-03-15 20:49:...|21/06/2009 12:00:00|\n",
            "|      9|     2009|    9|        20|   German Grand Prix|2023-03-15 20:49:...|12/07/2009 12:00:00|\n",
            "|     10|     2009|   10|        11|Hungarian Grand Prix|2023-03-15 20:49:...|26/07/2009 12:00:00|\n",
            "|     11|     2009|   11|        12| European Grand Prix|2023-03-15 20:49:...|23/08/2009 12:00:00|\n",
            "|     12|     2009|   12|        13|  Belgian Grand Prix|2023-03-15 20:49:...|30/08/2009 12:00:00|\n",
            "|     13|     2009|   13|        14|  Italian Grand Prix|2023-03-15 20:49:...|13/09/2009 12:00:00|\n",
            "|     14|     2009|   14|        15|Singapore Grand Prix|2023-03-15 20:49:...|27/09/2009 12:00:00|\n",
            "|     15|     2009|   15|        22| Japanese Grand Prix|2023-03-15 20:49:...|04/10/2009 05:00:00|\n",
            "|     16|     2009|   16|        18|Brazilian Grand Prix|2023-03-15 20:49:...|18/10/2009 16:00:00|\n",
            "|     17|     2009|   17|        24|Abu Dhabi Grand Prix|2023-03-15 20:49:...|01/11/2009 11:00:00|\n",
            "|     18|     2008|    1|         1|Australian Grand ...|2023-03-15 20:49:...|16/03/2008 04:30:00|\n",
            "|     19|     2008|    2|         2|Malaysian Grand Prix|2023-03-15 20:49:...|23/03/2008 07:00:00|\n",
            "|     20|     2008|    3|         3|  Bahrain Grand Prix|2023-03-15 20:49:...|06/04/2008 11:30:00|\n",
            "+-------+---------+-----+----------+--------------------+--------------------+-------------------+\n",
            "only showing top 20 rows\n",
            "\n"
          ]
        }
      ]
    },
    {
      "cell_type": "code",
      "source": [
        "races_df.printSchema()"
      ],
      "metadata": {
        "colab": {
          "base_uri": "https://localhost:8080/"
        },
        "id": "-yNSm3MX_5di",
        "outputId": "b4544a4f-7b51-40a2-bee8-26a6b5943bc5"
      },
      "execution_count": 141,
      "outputs": [
        {
          "output_type": "stream",
          "name": "stdout",
          "text": [
            "root\n",
            " |-- race_id: integer (nullable = true)\n",
            " |-- race_year: integer (nullable = true)\n",
            " |-- round: integer (nullable = true)\n",
            " |-- circuit_id: integer (nullable = true)\n",
            " |-- name: string (nullable = true)\n",
            " |-- ingestion_date: timestamp (nullable = false)\n",
            " |-- race_timestamp: string (nullable = true)\n",
            "\n"
          ]
        }
      ]
    },
    {
      "cell_type": "markdown",
      "source": [
        "### Write the data in parquet format on processed folder with partitionBy"
      ],
      "metadata": {
        "id": "rb2vc9UUE4MF"
      }
    },
    {
      "cell_type": "code",
      "source": [
        "races_df.write.mode('overwrite').partitionBy('race_year').parquet('/content/formula1/data/processed/races')"
      ],
      "metadata": {
        "id": "o5iJaaKZAFwZ"
      },
      "execution_count": 143,
      "outputs": []
    },
    {
      "cell_type": "code",
      "source": [
        "races_df.show()"
      ],
      "metadata": {
        "colab": {
          "base_uri": "https://localhost:8080/"
        },
        "id": "7bvTp8-RBlQb",
        "outputId": "d73ec50f-042c-4d0f-ffc0-012a304decf4"
      },
      "execution_count": 144,
      "outputs": [
        {
          "output_type": "stream",
          "name": "stdout",
          "text": [
            "+-------+---------+-----+----------+--------------------+--------------------+-------------------+\n",
            "|race_id|race_year|round|circuit_id|                name|      ingestion_date|     race_timestamp|\n",
            "+-------+---------+-----+----------+--------------------+--------------------+-------------------+\n",
            "|      1|     2009|    1|         1|Australian Grand ...|2023-03-15 20:49:...|29/03/2009 06:00:00|\n",
            "|      2|     2009|    2|         2|Malaysian Grand Prix|2023-03-15 20:49:...|05/04/2009 09:00:00|\n",
            "|      3|     2009|    3|        17|  Chinese Grand Prix|2023-03-15 20:49:...|19/04/2009 07:00:00|\n",
            "|      4|     2009|    4|         3|  Bahrain Grand Prix|2023-03-15 20:49:...|26/04/2009 12:00:00|\n",
            "|      5|     2009|    5|         4|  Spanish Grand Prix|2023-03-15 20:49:...|10/05/2009 12:00:00|\n",
            "|      6|     2009|    6|         6|   Monaco Grand Prix|2023-03-15 20:49:...|24/05/2009 12:00:00|\n",
            "|      7|     2009|    7|         5|  Turkish Grand Prix|2023-03-15 20:49:...|07/06/2009 12:00:00|\n",
            "|      8|     2009|    8|         9|  British Grand Prix|2023-03-15 20:49:...|21/06/2009 12:00:00|\n",
            "|      9|     2009|    9|        20|   German Grand Prix|2023-03-15 20:49:...|12/07/2009 12:00:00|\n",
            "|     10|     2009|   10|        11|Hungarian Grand Prix|2023-03-15 20:49:...|26/07/2009 12:00:00|\n",
            "|     11|     2009|   11|        12| European Grand Prix|2023-03-15 20:49:...|23/08/2009 12:00:00|\n",
            "|     12|     2009|   12|        13|  Belgian Grand Prix|2023-03-15 20:49:...|30/08/2009 12:00:00|\n",
            "|     13|     2009|   13|        14|  Italian Grand Prix|2023-03-15 20:49:...|13/09/2009 12:00:00|\n",
            "|     14|     2009|   14|        15|Singapore Grand Prix|2023-03-15 20:49:...|27/09/2009 12:00:00|\n",
            "|     15|     2009|   15|        22| Japanese Grand Prix|2023-03-15 20:49:...|04/10/2009 05:00:00|\n",
            "|     16|     2009|   16|        18|Brazilian Grand Prix|2023-03-15 20:49:...|18/10/2009 16:00:00|\n",
            "|     17|     2009|   17|        24|Abu Dhabi Grand Prix|2023-03-15 20:49:...|01/11/2009 11:00:00|\n",
            "|     18|     2008|    1|         1|Australian Grand ...|2023-03-15 20:49:...|16/03/2008 04:30:00|\n",
            "|     19|     2008|    2|         2|Malaysian Grand Prix|2023-03-15 20:49:...|23/03/2008 07:00:00|\n",
            "|     20|     2008|    3|         3|  Bahrain Grand Prix|2023-03-15 20:49:...|06/04/2008 11:30:00|\n",
            "+-------+---------+-----+----------+--------------------+--------------------+-------------------+\n",
            "only showing top 20 rows\n",
            "\n"
          ]
        }
      ]
    },
    {
      "cell_type": "code",
      "source": [
        "spark.read.parquet('/content/formula1/data/processed/races').show()"
      ],
      "metadata": {
        "colab": {
          "base_uri": "https://localhost:8080/"
        },
        "id": "2dWgK34cAj_a",
        "outputId": "66e80fb9-f235-4421-95b7-fb796dafec89"
      },
      "execution_count": 145,
      "outputs": [
        {
          "output_type": "stream",
          "name": "stdout",
          "text": [
            "+-------+-----+----------+--------------------+--------------------+-------------------+---------+\n",
            "|race_id|round|circuit_id|                name|      ingestion_date|     race_timestamp|race_year|\n",
            "+-------+-----+----------+--------------------+--------------------+-------------------+---------+\n",
            "|   1053|    2|        21|Emilia Romagna Gr...|2023-03-15 20:49:...|18/04/2021 13:00:00|     2021|\n",
            "|   1052|    1|         3|  Bahrain Grand Prix|2023-03-15 20:49:...|28/03/2021 15:00:00|     2021|\n",
            "|   1051|   21|         1|Australian Grand ...|2023-03-15 20:49:...|21/11/2021 06:00:00|     2021|\n",
            "|   1054|    3|        20|                 TBC|2023-03-15 20:49:...|      02/05/2021 \\N|     2021|\n",
            "|   1055|    4|         4|  Spanish Grand Prix|2023-03-15 20:49:...|09/05/2021 13:00:00|     2021|\n",
            "|   1056|    5|         6|   Monaco Grand Prix|2023-03-15 20:49:...|23/05/2021 13:00:00|     2021|\n",
            "|   1057|    6|        73|Azerbaijan Grand ...|2023-03-15 20:49:...|06/06/2021 12:00:00|     2021|\n",
            "|   1058|    7|         7| Canadian Grand Prix|2023-03-15 20:49:...|13/06/2021 18:00:00|     2021|\n",
            "|   1059|    8|        34|   French Grand Prix|2023-03-15 20:49:...|27/06/2021 13:00:00|     2021|\n",
            "|   1060|    9|        70| Austrian Grand Prix|2023-03-15 20:49:...|04/07/2021 13:00:00|     2021|\n",
            "|   1061|   10|         9|  British Grand Prix|2023-03-15 20:49:...|18/07/2021 14:00:00|     2021|\n",
            "|   1062|   11|        11|Hungarian Grand Prix|2023-03-15 20:49:...|01/08/2021 13:00:00|     2021|\n",
            "|   1063|   12|        13|  Belgian Grand Prix|2023-03-15 20:49:...|29/08/2021 13:00:00|     2021|\n",
            "|   1064|   13|        39|    Dutch Grand Prix|2023-03-15 20:49:...|05/09/2021 13:00:00|     2021|\n",
            "|   1065|   14|        14|  Italian Grand Prix|2023-03-15 20:49:...|12/09/2021 13:00:00|     2021|\n",
            "|   1066|   15|        71|  Russian Grand Prix|2023-03-15 20:49:...|26/09/2021 12:00:00|     2021|\n",
            "|   1067|   16|        15|Singapore Grand Prix|2023-03-15 20:49:...|03/10/2021 12:00:00|     2021|\n",
            "|   1068|   17|        22| Japanese Grand Prix|2023-03-15 20:49:...|10/10/2021 05:00:00|     2021|\n",
            "|   1069|   18|        69|United States Gra...|2023-03-15 20:49:...|24/10/2021 19:00:00|     2021|\n",
            "|   1070|   19|        32|Mexico City Grand...|2023-03-15 20:49:...|31/10/2021 19:00:00|     2021|\n",
            "+-------+-----+----------+--------------------+--------------------+-------------------+---------+\n",
            "only showing top 20 rows\n",
            "\n"
          ]
        }
      ]
    },
    {
      "cell_type": "markdown",
      "source": [
        "# Ingest constructors.json"
      ],
      "metadata": {
        "id": "Io3qSwQPFGpF"
      }
    },
    {
      "cell_type": "code",
      "source": [
        "constructors_schema = \"constructorId INT, constructorRef STRING, name STRING, nationality STRING, url STRING\""
      ],
      "metadata": {
        "id": "znhIjqZxAyUK"
      },
      "execution_count": 147,
      "outputs": []
    },
    {
      "cell_type": "code",
      "source": [
        "constructors_df = spark.read.json('/content/formula1/data/raw/constructors.json', schema=constructors_schema)\n",
        "constructors_df.show()"
      ],
      "metadata": {
        "colab": {
          "base_uri": "https://localhost:8080/"
        },
        "id": "VI6EffEcJe9I",
        "outputId": "e23e6ed0-d16a-43d3-b546-69fa53ebff7e"
      },
      "execution_count": 150,
      "outputs": [
        {
          "output_type": "stream",
          "name": "stdout",
          "text": [
            "+-------------+--------------+-----------+-----------+--------------------+\n",
            "|constructorId|constructorRef|       name|nationality|                 url|\n",
            "+-------------+--------------+-----------+-----------+--------------------+\n",
            "|            1|       mclaren|    McLaren|    British|http://en.wikiped...|\n",
            "|            2|    bmw_sauber| BMW Sauber|     German|http://en.wikiped...|\n",
            "|            3|      williams|   Williams|    British|http://en.wikiped...|\n",
            "|            4|       renault|    Renault|     French|http://en.wikiped...|\n",
            "|            5|    toro_rosso| Toro Rosso|    Italian|http://en.wikiped...|\n",
            "|            6|       ferrari|    Ferrari|    Italian|http://en.wikiped...|\n",
            "|            7|        toyota|     Toyota|   Japanese|http://en.wikiped...|\n",
            "|            8|   super_aguri|Super Aguri|   Japanese|http://en.wikiped...|\n",
            "|            9|      red_bull|   Red Bull|   Austrian|http://en.wikiped...|\n",
            "|           10|   force_india|Force India|     Indian|http://en.wikiped...|\n",
            "|           11|         honda|      Honda|   Japanese|http://en.wikiped...|\n",
            "|           12|        spyker|     Spyker|      Dutch|http://en.wikiped...|\n",
            "|           13|           mf1|        MF1|    Russian|http://en.wikiped...|\n",
            "|           14|    spyker_mf1| Spyker MF1|      Dutch|http://en.wikiped...|\n",
            "|           15|        sauber|     Sauber|      Swiss|http://en.wikiped...|\n",
            "|           16|           bar|        BAR|    British|http://en.wikiped...|\n",
            "|           17|        jordan|     Jordan|      Irish|http://en.wikiped...|\n",
            "|           18|       minardi|    Minardi|    Italian|http://en.wikiped...|\n",
            "|           19|        jaguar|     Jaguar|    British|http://en.wikiped...|\n",
            "|           20|         prost|      Prost|     French|http://en.wikiped...|\n",
            "+-------------+--------------+-----------+-----------+--------------------+\n",
            "only showing top 20 rows\n",
            "\n"
          ]
        }
      ]
    },
    {
      "cell_type": "code",
      "source": [
        "print('hello')"
      ],
      "metadata": {
        "colab": {
          "base_uri": "https://localhost:8080/"
        },
        "id": "sY7K265SMkRA",
        "outputId": "7ba23da0-775e-4c57-c5bc-4a9ce6c383b0"
      },
      "execution_count": 152,
      "outputs": [
        {
          "output_type": "stream",
          "name": "stdout",
          "text": [
            "hello\n"
          ]
        }
      ]
    },
    {
      "cell_type": "code",
      "source": [],
      "metadata": {
        "id": "mwpBOQRqPkuh"
      },
      "execution_count": null,
      "outputs": []
    }
  ]
}