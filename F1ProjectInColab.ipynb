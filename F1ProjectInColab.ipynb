{
  "nbformat": 4,
  "nbformat_minor": 0,
  "metadata": {
    "colab": {
      "provenance": [],
      "collapsed_sections": [
        "NSE1ZPIjXAKu",
        "Io3qSwQPFGpF"
      ],
      "authorship_tag": "ABX9TyPeQlZ5P30CjRUMoQ8f513R",
      "include_colab_link": true
    },
    "kernelspec": {
      "name": "python3",
      "display_name": "Python 3"
    },
    "language_info": {
      "name": "python"
    }
  },
  "cells": [
    {
      "cell_type": "markdown",
      "metadata": {
        "id": "view-in-github",
        "colab_type": "text"
      },
      "source": [
        "<a href=\"https://colab.research.google.com/github/PBuenoc/f1ProjectInGoogleColab/blob/main/F1ProjectInColab.ipynb\" target=\"_parent\"><img src=\"https://colab.research.google.com/assets/colab-badge.svg\" alt=\"Open In Colab\"/></a>"
      ]
    },
    {
      "cell_type": "markdown",
      "source": [
        "# Prepare spark environment"
      ],
      "metadata": {
        "id": "pU2ZlM2mDLm9"
      }
    },
    {
      "cell_type": "code",
      "source": [
        "!apt-get install openjdk-8-jdk-headless -qq > /dev/null\n",
        "!wget -q https://archive.apache.org/dist/spark/spark-3.1.2/spark-3.1.2-bin-hadoop2.7.tgz\n",
        "!tar xf spark-3.1.2-bin-hadoop2.7.tgz\n",
        "!pip install -q findspark"
      ],
      "metadata": {
        "id": "Gw3cNTCrg1dN"
      },
      "execution_count": null,
      "outputs": []
    },
    {
      "cell_type": "code",
      "source": [
        "import os\n",
        "os.environ[\"JAVA_HOME\"] = \"/usr/lib/jvm/java-8-openjdk-amd64\"\n",
        "os.environ[\"SPARK_HOME\"] = \"/content/spark-3.1.2-bin-hadoop2.7\""
      ],
      "metadata": {
        "id": "ANLqmU37Lbbw"
      },
      "execution_count": null,
      "outputs": []
    },
    {
      "cell_type": "code",
      "source": [
        "import findspark\n",
        "findspark.init()"
      ],
      "metadata": {
        "id": "1WR8q-sBL-nP"
      },
      "execution_count": null,
      "outputs": []
    },
    {
      "cell_type": "code",
      "source": [
        "from pyspark.sql import SparkSession\n",
        "spark = SparkSession.builder.master('local[*]').appName(\"Iniciando com Spark\").getOrCreate()"
      ],
      "metadata": {
        "id": "NEpuIzesMP5X"
      },
      "execution_count": null,
      "outputs": []
    },
    {
      "cell_type": "markdown",
      "source": [
        "# Ingest csv files"
      ],
      "metadata": {
        "id": "NSE1ZPIjXAKu"
      }
    },
    {
      "cell_type": "markdown",
      "source": [
        "## Ingest circuits.csv file"
      ],
      "metadata": {
        "id": "pqQ0lLJ4DhHc"
      }
    },
    {
      "cell_type": "code",
      "source": [
        "circuits_df = spark.read.csv('/content/formula1/data/raw/circuits2.csv',inferSchema=True, header=True, sep=';')"
      ],
      "metadata": {
        "id": "nFEAMzx0M2lY"
      },
      "execution_count": null,
      "outputs": []
    },
    {
      "cell_type": "code",
      "source": [
        "circuits_df.show()"
      ],
      "metadata": {
        "id": "dMUk5DI3M6-Q"
      },
      "execution_count": null,
      "outputs": []
    },
    {
      "cell_type": "markdown",
      "source": [
        "### Select only the columns required"
      ],
      "metadata": {
        "id": "1PS5_CoBD2Q0"
      }
    },
    {
      "cell_type": "code",
      "source": [
        "circuits_df = circuits_df.select('circuitId', 'circuitRef', 'name', 'location', 'country', 'lat', 'lng', 'alt')\n",
        "circuits_df.show()"
      ],
      "metadata": {
        "id": "xuxEzkvjr4SG"
      },
      "execution_count": null,
      "outputs": []
    },
    {
      "cell_type": "markdown",
      "source": [
        "### Renamed the columns as required"
      ],
      "metadata": {
        "id": "jSIcGi-9EBIl"
      }
    },
    {
      "cell_type": "code",
      "source": [
        "circuits_df = circuits_df.withColumnRenamed('circuitId', 'circuit_id') \\\n",
        ".withColumnRenamed('circuitRef', 'circuit_ref') \\\n",
        ".withColumnRenamed('lat','latitude') \\\n",
        ".withColumnRenamed('lng','longitude') \\\n",
        ".withColumnRenamed('alt','altitude')\n",
        "circuits_df.show()"
      ],
      "metadata": {
        "id": "B7Wki6VTpGxd"
      },
      "execution_count": null,
      "outputs": []
    },
    {
      "cell_type": "markdown",
      "source": [
        "### Add ingestion_date column"
      ],
      "metadata": {
        "id": "gwLS7o4CEFSE"
      }
    },
    {
      "cell_type": "code",
      "source": [
        "from pyspark.sql.functions import current_timestamp"
      ],
      "metadata": {
        "id": "_246Ktopu5vH"
      },
      "execution_count": null,
      "outputs": []
    },
    {
      "cell_type": "code",
      "source": [
        "circuits_df = circuits_df.withColumn('ingestion_date', current_timestamp())\n",
        "circuits_df.show()"
      ],
      "metadata": {
        "id": "kPowGTxWvGJX"
      },
      "execution_count": null,
      "outputs": []
    },
    {
      "cell_type": "code",
      "source": [
        "circuits_df.printSchema()"
      ],
      "metadata": {
        "id": "xUNi72_-vWlQ"
      },
      "execution_count": null,
      "outputs": []
    },
    {
      "cell_type": "markdown",
      "source": [
        "### Specify the types as required"
      ],
      "metadata": {
        "id": "o0grVm4wELhM"
      }
    },
    {
      "cell_type": "code",
      "source": [
        "circuits_df = circuits_df.withColumn('latitude', circuits_df['latitude'].cast('double')) \\\n",
        ".withColumn('longitude', circuits_df['longitude'].cast('double')) \\\n",
        ".withColumn('altitude', circuits_df['altitude'].cast('integer'))\n",
        "circuits_df.printSchema()"
      ],
      "metadata": {
        "id": "lDS9NPySwWnA"
      },
      "execution_count": null,
      "outputs": []
    },
    {
      "cell_type": "markdown",
      "source": [
        "### Write the data in parquet format on processed folder"
      ],
      "metadata": {
        "id": "2aE6W-WrEPcN"
      }
    },
    {
      "cell_type": "code",
      "source": [
        "circuits_df.write.mode('overwrite').parquet('/content/formula1/data/processed/circuits')"
      ],
      "metadata": {
        "id": "p82B_aXZxP8w"
      },
      "execution_count": null,
      "outputs": []
    },
    {
      "cell_type": "code",
      "source": [
        "spark.read.parquet('/content/formula1/data/processed/circuits').show()"
      ],
      "metadata": {
        "id": "xme82LqayEWI"
      },
      "execution_count": null,
      "outputs": []
    },
    {
      "cell_type": "code",
      "source": [
        "spark.read.parquet('/content/formula1/data/processed/circuits').printSchema()"
      ],
      "metadata": {
        "id": "seB-MQImyKYB"
      },
      "execution_count": null,
      "outputs": []
    },
    {
      "cell_type": "markdown",
      "source": [
        "## Ingest races.csv"
      ],
      "metadata": {
        "id": "GBEY6uMFEmT1"
      }
    },
    {
      "cell_type": "code",
      "source": [
        "races_df = spark.read.csv('/content/formula1/data/raw/races2.csv', header=True, inferSchema=True, sep=';')\n",
        "races_df.show()"
      ],
      "metadata": {
        "id": "ECm8bxcF22M1"
      },
      "execution_count": null,
      "outputs": []
    },
    {
      "cell_type": "markdown",
      "source": [
        "### Add the required columns"
      ],
      "metadata": {
        "id": "3rwT5-vvEqIl"
      }
    },
    {
      "cell_type": "code",
      "source": [
        "from pyspark.sql.functions import col, concat, lit"
      ],
      "metadata": {
        "id": "ud7mgeJI9NB4"
      },
      "execution_count": null,
      "outputs": []
    },
    {
      "cell_type": "code",
      "source": [
        "races_df = races_df.withColumn('ingestion_date', current_timestamp()) \\\n",
        ".withColumn('race_timestamp',concat(col('date'), lit(' '), col('time')))\n",
        "races_df.show()"
      ],
      "metadata": {
        "id": "hMjY_hA28iAA"
      },
      "execution_count": null,
      "outputs": []
    },
    {
      "cell_type": "markdown",
      "source": [
        "### Select only the required columns"
      ],
      "metadata": {
        "id": "Kath6f4HExGf"
      }
    },
    {
      "cell_type": "code",
      "source": [
        "races_df = races_df.select(col('raceId').alias('race_id'),\n",
        "                           col('year').alias('race_year'), \n",
        "                           col('round'), \n",
        "                           col('circuitId').alias('circuit_id'),\n",
        "                           col('name'),\n",
        "                           col('ingestion_date'),\n",
        "                           col('race_timestamp'))"
      ],
      "metadata": {
        "id": "DoFFb-3O9igY"
      },
      "execution_count": null,
      "outputs": []
    },
    {
      "cell_type": "code",
      "source": [
        "races_df.show()"
      ],
      "metadata": {
        "id": "VcLuXk_9CI9s"
      },
      "execution_count": null,
      "outputs": []
    },
    {
      "cell_type": "code",
      "source": [
        "races_df.printSchema()"
      ],
      "metadata": {
        "id": "-yNSm3MX_5di"
      },
      "execution_count": null,
      "outputs": []
    },
    {
      "cell_type": "markdown",
      "source": [
        "### Write the data in parquet format on processed folder with partitionBy"
      ],
      "metadata": {
        "id": "rb2vc9UUE4MF"
      }
    },
    {
      "cell_type": "code",
      "source": [
        "races_df.write.mode('overwrite').partitionBy('race_year').parquet('/content/formula1/data/processed/races')"
      ],
      "metadata": {
        "id": "o5iJaaKZAFwZ"
      },
      "execution_count": null,
      "outputs": []
    },
    {
      "cell_type": "code",
      "source": [
        "races_df.show()"
      ],
      "metadata": {
        "id": "7bvTp8-RBlQb"
      },
      "execution_count": null,
      "outputs": []
    },
    {
      "cell_type": "code",
      "source": [
        "spark.read.parquet('/content/formula1/data/processed/races').show()"
      ],
      "metadata": {
        "id": "2dWgK34cAj_a"
      },
      "execution_count": null,
      "outputs": []
    },
    {
      "cell_type": "markdown",
      "source": [
        "# Ingest JSON files"
      ],
      "metadata": {
        "id": "2KISlZ_wXKHm"
      }
    },
    {
      "cell_type": "markdown",
      "source": [
        "## Ingest constructors.json"
      ],
      "metadata": {
        "id": "Io3qSwQPFGpF"
      }
    },
    {
      "cell_type": "code",
      "source": [
        "constructors_schema = \"constructorId INT, constructorRef STRING, name STRING, nationality STRING, url STRING\""
      ],
      "metadata": {
        "id": "znhIjqZxAyUK"
      },
      "execution_count": null,
      "outputs": []
    },
    {
      "cell_type": "code",
      "source": [
        "constructors_df = spark.read.json('/content/formula1/data/raw/constructors.json', schema=constructors_schema)\n",
        "constructors_df.show()"
      ],
      "metadata": {
        "id": "VI6EffEcJe9I"
      },
      "execution_count": null,
      "outputs": []
    },
    {
      "cell_type": "markdown",
      "source": [
        "### Drop unwanted columns from the dataframe"
      ],
      "metadata": {
        "id": "pz2VO1AmUns1"
      }
    },
    {
      "cell_type": "code",
      "source": [
        "constructors_df = constructors_df.drop(constructors_df.url)\n",
        "constructors_df.show()"
      ],
      "metadata": {
        "id": "mwpBOQRqPkuh"
      },
      "execution_count": null,
      "outputs": []
    },
    {
      "cell_type": "markdown",
      "source": [
        "### Rename columns and add ingestion date"
      ],
      "metadata": {
        "id": "InVZnAnbVGaN"
      }
    },
    {
      "cell_type": "code",
      "source": [
        "constructors_df = constructors_df.withColumnRenamed('constructorId', 'constructor_id') \\\n",
        "                                .withColumnRenamed('constructorRef', 'constructor_ref') \\\n",
        "                                .withColumn('ingestion_date', current_timestamp())\n",
        "constructors_df.show()"
      ],
      "metadata": {
        "id": "UWsWWaHWVCoN"
      },
      "execution_count": null,
      "outputs": []
    },
    {
      "cell_type": "code",
      "source": [
        "constructors_df.write.mode('overwrite').parquet('/content/formula1/data/processed/constructors')"
      ],
      "metadata": {
        "id": "sqQY6JI8VwO1"
      },
      "execution_count": null,
      "outputs": []
    },
    {
      "cell_type": "code",
      "source": [
        "spark.read.parquet('/content/formula1/data/processed/constructors').show()"
      ],
      "metadata": {
        "id": "AMVWQgA2Wt9u"
      },
      "execution_count": null,
      "outputs": []
    },
    {
      "cell_type": "markdown",
      "source": [
        "## Ingest drivers.json - Nested JSON"
      ],
      "metadata": {
        "id": "Wo5I62IXXlZm"
      }
    },
    {
      "cell_type": "code",
      "source": [
        "from pyspark.sql.types import StructType, StructField, IntegerType, StringType, DateType"
      ],
      "metadata": {
        "id": "w-ikKCV20nEr"
      },
      "execution_count": null,
      "outputs": []
    },
    {
      "cell_type": "code",
      "source": [
        "name_schema = StructType(fields=[StructField(\"forename\", StringType(), True),\n",
        "                                 StructField(\"surname\", StringType(), True)\n",
        "  \n",
        "])"
      ],
      "metadata": {
        "id": "Pdtm98202UAl"
      },
      "execution_count": null,
      "outputs": []
    },
    {
      "cell_type": "code",
      "source": [
        "drivers_schema = StructType(fields=[StructField(\"driverId\", IntegerType(), False),\n",
        "                                    StructField(\"driverRef\", StringType(), True),\n",
        "                                    StructField(\"number\", IntegerType(), True),\n",
        "                                    StructField(\"code\", StringType(), True),\n",
        "                                    StructField(\"name\", name_schema),\n",
        "                                    StructField(\"dob\", DateType(), True),\n",
        "                                    StructField(\"nationality\", StringType(), True),\n",
        "                                    StructField(\"url\", StringType(), True)])"
      ],
      "metadata": {
        "id": "3sMG6t6Z2Wok"
      },
      "execution_count": null,
      "outputs": []
    },
    {
      "cell_type": "code",
      "source": [
        "drivers_df = spark.read \\\n",
        ".schema(drivers_schema) \\\n",
        ".json('/content/formula1/data/raw/drivers.json')"
      ],
      "metadata": {
        "id": "8iimmyy12Y5N"
      },
      "execution_count": null,
      "outputs": []
    },
    {
      "cell_type": "code",
      "source": [
        "drivers_df.show()"
      ],
      "metadata": {
        "id": "1UiiU05V2kD1"
      },
      "execution_count": null,
      "outputs": []
    },
    {
      "cell_type": "code",
      "source": [
        "drivers_df.printSchema()"
      ],
      "metadata": {
        "id": "EA-Qr5r02n5l"
      },
      "execution_count": null,
      "outputs": []
    },
    {
      "cell_type": "markdown",
      "source": [
        "### Rename and add new columns"
      ],
      "metadata": {
        "id": "b6cjfBtS4Tyk"
      }
    },
    {
      "cell_type": "code",
      "source": [
        "from pyspark.sql.functions import col, concat, lit"
      ],
      "metadata": {
        "id": "unk4qAyZ62IX"
      },
      "execution_count": null,
      "outputs": []
    },
    {
      "cell_type": "code",
      "source": [
        "drivers_df = drivers_df.withColumnRenamed(\"driverId\", \"driver_id\") \\\n",
        "                                    .withColumnRenamed(\"driverRef\", \"driver_ref\") \\\n",
        "                                    .withColumn(\"name\", concat(col(\"name.forename\"), lit(\" \"), col(\"name.surname\")))"
      ],
      "metadata": {
        "id": "8Ou9pltF3y_1"
      },
      "execution_count": null,
      "outputs": []
    },
    {
      "cell_type": "code",
      "source": [
        "from pyspark.sql.functions import current_timestamp"
      ],
      "metadata": {
        "id": "7RHGFBTW5Frf"
      },
      "execution_count": 242,
      "outputs": []
    },
    {
      "cell_type": "code",
      "source": [
        "drivers_df = drivers_df.withColumn('ingestion_date', current_timestamp())\n",
        "drivers_df.show()"
      ],
      "metadata": {
        "id": "rfD9HKDy684H"
      },
      "execution_count": null,
      "outputs": []
    },
    {
      "cell_type": "markdown",
      "source": [
        "### Drop unwanted columns\n",
        "url \\\n",
        "name.forename \\\n",
        "name.surname \\"
      ],
      "metadata": {
        "id": "tDymPf-_776e"
      }
    },
    {
      "cell_type": "code",
      "source": [
        "drivers_df = drivers_df.drop('url')\n",
        "drivers_df.show()"
      ],
      "metadata": {
        "id": "EnKYPEih7Sdv"
      },
      "execution_count": null,
      "outputs": []
    },
    {
      "cell_type": "code",
      "source": [
        "drivers_df.printSchema()"
      ],
      "metadata": {
        "id": "l0LjFlwB8eMX"
      },
      "execution_count": null,
      "outputs": []
    },
    {
      "cell_type": "markdown",
      "source": [
        "### Write the output to processed folder in parquet format\n"
      ],
      "metadata": {
        "id": "Sq57Q8XZ87Ir"
      }
    },
    {
      "cell_type": "code",
      "source": [
        "drivers_df.write.mode('overwrite').parquet('/content/formula1/data/processed/drivers')"
      ],
      "metadata": {
        "id": "aGAQBAmN8vSA"
      },
      "execution_count": null,
      "outputs": []
    },
    {
      "cell_type": "code",
      "source": [
        "spark.read.parquet('/content/formula1/data/processed/drivers').show()"
      ],
      "metadata": {
        "id": "N2cnQG9n9c9o"
      },
      "execution_count": null,
      "outputs": []
    },
    {
      "cell_type": "markdown",
      "source": [
        "## Ingest results.json"
      ],
      "metadata": {
        "id": "AcE9lSS4-r-h"
      }
    },
    {
      "cell_type": "code",
      "source": [
        "from pyspark.sql.types import StructType, StructField, IntegerType, StringType, FloatType"
      ],
      "metadata": {
        "id": "0NO3zl3m9jog"
      },
      "execution_count": 243,
      "outputs": []
    },
    {
      "cell_type": "code",
      "source": [
        "results_schema = StructType(fields=[StructField(\"resultId\", IntegerType(), False),\n",
        "                                    StructField(\"raceId\", IntegerType(), True),\n",
        "                                    StructField(\"driverId\", IntegerType(), True),\n",
        "                                    StructField(\"constructorId\", IntegerType(), True),\n",
        "                                    StructField(\"number\", IntegerType(), True),\n",
        "                                    StructField(\"grid\", IntegerType(), True),\n",
        "                                    StructField(\"position\", IntegerType(), True),\n",
        "                                    StructField(\"positionText\", StringType(), True),\n",
        "                                    StructField(\"positionOrder\", IntegerType(), True),\n",
        "                                    StructField(\"points\", FloatType(), True),\n",
        "                                    StructField(\"laps\", IntegerType(), True),\n",
        "                                    StructField(\"time\", StringType(), True),\n",
        "                                    StructField(\"milliseconds\", IntegerType(), True),\n",
        "                                    StructField(\"fastestLap\", IntegerType(), True),\n",
        "                                    StructField(\"rank\", IntegerType(), True),\n",
        "                                    StructField(\"fastestLapTime\", StringType(), True),\n",
        "                                    StructField(\"fastestLapSpeed\", FloatType(), True),\n",
        "                                    StructField(\"statusId\", StringType(), True)])"
      ],
      "metadata": {
        "id": "9SNwL9v7DaO7"
      },
      "execution_count": 244,
      "outputs": []
    },
    {
      "cell_type": "code",
      "source": [
        "results_df = spark.read \\\n",
        ".schema(results_schema) \\\n",
        ".json('/content/formula1/data/raw/results.json')\n",
        "results_df.show()"
      ],
      "metadata": {
        "colab": {
          "base_uri": "https://localhost:8080/"
        },
        "id": "qhvZ10ewCWjb",
        "outputId": "49088d93-4a10-420b-9db3-88851d66bc1a"
      },
      "execution_count": 245,
      "outputs": [
        {
          "output_type": "stream",
          "name": "stdout",
          "text": [
            "+--------+------+--------+-------------+------+----+--------+------------+-------------+------+----+-----------+------------+----------+----+--------------+---------------+--------+\n",
            "|resultId|raceId|driverId|constructorId|number|grid|position|positionText|positionOrder|points|laps|       time|milliseconds|fastestLap|rank|fastestLapTime|fastestLapSpeed|statusId|\n",
            "+--------+------+--------+-------------+------+----+--------+------------+-------------+------+----+-----------+------------+----------+----+--------------+---------------+--------+\n",
            "|       1|    18|       1|            1|    22|   1|       1|           1|            1|  10.0|  58|1:34:50.616|     5690616|        39|   2|      1:27.452|          218.3|       1|\n",
            "|       2|    18|       2|            2|     3|   5|       2|           2|            2|   8.0|  58|     +5.478|     5696094|        41|   3|      1:27.739|        217.586|       1|\n",
            "|       3|    18|       3|            3|     7|   7|       3|           3|            3|   6.0|  58|     +8.163|     5698779|        41|   5|      1:28.090|        216.719|       1|\n",
            "|       4|    18|       4|            4|     5|  11|       4|           4|            4|   5.0|  58|    +17.181|     5707797|        58|   7|      1:28.603|        215.464|       1|\n",
            "|       5|    18|       5|            1|    23|   3|       5|           5|            5|   4.0|  58|    +18.014|     5708630|        43|   1|      1:27.418|        218.385|       1|\n",
            "|       6|    18|       6|            3|     8|  13|       6|           6|            6|   3.0|  57|         \\N|        null|        50|  14|      1:29.639|        212.974|      11|\n",
            "|       7|    18|       7|            5|    14|  17|       7|           7|            7|   2.0|  55|         \\N|        null|        22|  12|      1:29.534|        213.224|       5|\n",
            "|       8|    18|       8|            6|     1|  15|       8|           8|            8|   1.0|  53|         \\N|        null|        20|   4|      1:27.903|         217.18|       5|\n",
            "|       9|    18|       9|            2|     4|   2|    null|           R|            9|   0.0|  47|         \\N|        null|        15|   9|      1:28.753|          215.1|       4|\n",
            "|      10|    18|      10|            7|    12|  18|    null|           R|           10|   0.0|  43|         \\N|        null|        23|  13|      1:29.558|        213.166|       3|\n",
            "|      11|    18|      11|            8|    18|  19|    null|           R|           11|   0.0|  32|         \\N|        null|        24|  15|      1:30.892|        210.038|       7|\n",
            "|      12|    18|      12|            4|     6|  20|    null|           R|           12|   0.0|  30|         \\N|        null|        20|  16|      1:31.384|        208.907|       8|\n",
            "|      13|    18|      13|            6|     2|   4|    null|           R|           13|   0.0|  29|         \\N|        null|        23|   6|      1:28.175|         216.51|       5|\n",
            "|      14|    18|      14|            9|     9|   8|    null|           R|           14|   0.0|  25|         \\N|        null|        21|  11|      1:29.502|          213.3|       4|\n",
            "|      15|    18|      15|            7|    11|   6|    null|           R|           15|   0.0|  19|         \\N|        null|        18|  10|      1:29.310|        213.758|      10|\n",
            "|      16|    18|      16|           10|    20|  22|    null|           R|           16|   0.0|   8|         \\N|        null|         8|  17|      1:32.021|        207.461|       9|\n",
            "|      17|    18|      17|            9|    10|  14|    null|           R|           17|   0.0|   0|         \\N|        null|      null|null|            \\N|           null|       4|\n",
            "|      18|    18|      18|           11|    16|  12|    null|           R|           18|   0.0|   0|         \\N|        null|      null|null|            \\N|           null|       4|\n",
            "|      19|    18|      19|            8|    19|  21|    null|           R|           19|   0.0|   0|         \\N|        null|      null|null|            \\N|           null|       4|\n",
            "|      20|    18|      20|            5|    15|   9|    null|           R|           20|   0.0|   0|         \\N|        null|      null|null|            \\N|           null|       4|\n",
            "+--------+------+--------+-------------+------+----+--------+------------+-------------+------+----+-----------+------------+----------+----+--------------+---------------+--------+\n",
            "only showing top 20 rows\n",
            "\n"
          ]
        }
      ]
    },
    {
      "cell_type": "markdown",
      "source": [
        "### Drop, rename and add required columns"
      ],
      "metadata": {
        "id": "nxvFwGNUE4bb"
      }
    },
    {
      "cell_type": "code",
      "source": [
        "results_df = results_df.drop('statusId')"
      ],
      "metadata": {
        "id": "6LtTeMHoCxJT"
      },
      "execution_count": 246,
      "outputs": []
    },
    {
      "cell_type": "code",
      "source": [
        "results_df = results_df.withColumnRenamed('resultId', 'result_id') \\\n",
        "                       .withColumnRenamed('raceId', 'race_id') \\\n",
        "                       .withColumnRenamed('driverId', 'driver_id') \\\n",
        "                       .withColumnRenamed('constructorId', 'constructor_id') \\\n",
        "                       .withColumnRenamed('positionText', 'position_text') \\\n",
        "                       .withColumnRenamed('positionOrder', 'position_order') \\\n",
        "                       .withColumnRenamed('fastestLap', 'fastest_lap') \\\n",
        "                       .withColumnRenamed('fastestLapTime', 'fastest_lap_time') \\\n",
        "                       .withColumnRenamed('fastestLapSpeed', 'fastest_lap_speed')"
      ],
      "metadata": {
        "id": "E4HyTUY7EFOE"
      },
      "execution_count": 247,
      "outputs": []
    },
    {
      "cell_type": "code",
      "source": [
        "from pyspark.sql.functions import current_timestamp"
      ],
      "metadata": {
        "id": "GpjnqAGfFWMs"
      },
      "execution_count": 251,
      "outputs": []
    },
    {
      "cell_type": "code",
      "source": [
        "results_df = results_df.withColumn('ingestion_date', current_timestamp())\n",
        "results_df.show()"
      ],
      "metadata": {
        "colab": {
          "base_uri": "https://localhost:8080/"
        },
        "id": "v658u2deE3vj",
        "outputId": "08db9548-c201-4548-cd7b-6669fd7e445f"
      },
      "execution_count": 252,
      "outputs": [
        {
          "output_type": "stream",
          "name": "stdout",
          "text": [
            "+---------+-------+---------+--------------+------+----+--------+-------------+--------------+------+----+-----------+------------+-----------+----+----------------+-----------------+--------------------+\n",
            "|result_id|race_id|driver_id|constructor_id|number|grid|position|position_text|position_order|points|laps|       time|milliseconds|fastest_lap|rank|fastest_lap_time|fastest_lap_speed|      ingestion_date|\n",
            "+---------+-------+---------+--------------+------+----+--------+-------------+--------------+------+----+-----------+------------+-----------+----+----------------+-----------------+--------------------+\n",
            "|        1|     18|        1|             1|    22|   1|       1|            1|             1|  10.0|  58|1:34:50.616|     5690616|         39|   2|        1:27.452|            218.3|2023-03-16 01:43:...|\n",
            "|        2|     18|        2|             2|     3|   5|       2|            2|             2|   8.0|  58|     +5.478|     5696094|         41|   3|        1:27.739|          217.586|2023-03-16 01:43:...|\n",
            "|        3|     18|        3|             3|     7|   7|       3|            3|             3|   6.0|  58|     +8.163|     5698779|         41|   5|        1:28.090|          216.719|2023-03-16 01:43:...|\n",
            "|        4|     18|        4|             4|     5|  11|       4|            4|             4|   5.0|  58|    +17.181|     5707797|         58|   7|        1:28.603|          215.464|2023-03-16 01:43:...|\n",
            "|        5|     18|        5|             1|    23|   3|       5|            5|             5|   4.0|  58|    +18.014|     5708630|         43|   1|        1:27.418|          218.385|2023-03-16 01:43:...|\n",
            "|        6|     18|        6|             3|     8|  13|       6|            6|             6|   3.0|  57|         \\N|        null|         50|  14|        1:29.639|          212.974|2023-03-16 01:43:...|\n",
            "|        7|     18|        7|             5|    14|  17|       7|            7|             7|   2.0|  55|         \\N|        null|         22|  12|        1:29.534|          213.224|2023-03-16 01:43:...|\n",
            "|        8|     18|        8|             6|     1|  15|       8|            8|             8|   1.0|  53|         \\N|        null|         20|   4|        1:27.903|           217.18|2023-03-16 01:43:...|\n",
            "|        9|     18|        9|             2|     4|   2|    null|            R|             9|   0.0|  47|         \\N|        null|         15|   9|        1:28.753|            215.1|2023-03-16 01:43:...|\n",
            "|       10|     18|       10|             7|    12|  18|    null|            R|            10|   0.0|  43|         \\N|        null|         23|  13|        1:29.558|          213.166|2023-03-16 01:43:...|\n",
            "|       11|     18|       11|             8|    18|  19|    null|            R|            11|   0.0|  32|         \\N|        null|         24|  15|        1:30.892|          210.038|2023-03-16 01:43:...|\n",
            "|       12|     18|       12|             4|     6|  20|    null|            R|            12|   0.0|  30|         \\N|        null|         20|  16|        1:31.384|          208.907|2023-03-16 01:43:...|\n",
            "|       13|     18|       13|             6|     2|   4|    null|            R|            13|   0.0|  29|         \\N|        null|         23|   6|        1:28.175|           216.51|2023-03-16 01:43:...|\n",
            "|       14|     18|       14|             9|     9|   8|    null|            R|            14|   0.0|  25|         \\N|        null|         21|  11|        1:29.502|            213.3|2023-03-16 01:43:...|\n",
            "|       15|     18|       15|             7|    11|   6|    null|            R|            15|   0.0|  19|         \\N|        null|         18|  10|        1:29.310|          213.758|2023-03-16 01:43:...|\n",
            "|       16|     18|       16|            10|    20|  22|    null|            R|            16|   0.0|   8|         \\N|        null|          8|  17|        1:32.021|          207.461|2023-03-16 01:43:...|\n",
            "|       17|     18|       17|             9|    10|  14|    null|            R|            17|   0.0|   0|         \\N|        null|       null|null|              \\N|             null|2023-03-16 01:43:...|\n",
            "|       18|     18|       18|            11|    16|  12|    null|            R|            18|   0.0|   0|         \\N|        null|       null|null|              \\N|             null|2023-03-16 01:43:...|\n",
            "|       19|     18|       19|             8|    19|  21|    null|            R|            19|   0.0|   0|         \\N|        null|       null|null|              \\N|             null|2023-03-16 01:43:...|\n",
            "|       20|     18|       20|             5|    15|   9|    null|            R|            20|   0.0|   0|         \\N|        null|       null|null|              \\N|             null|2023-03-16 01:43:...|\n",
            "+---------+-------+---------+--------------+------+----+--------+-------------+--------------+------+----+-----------+------------+-----------+----+----------------+-----------------+--------------------+\n",
            "only showing top 20 rows\n",
            "\n"
          ]
        }
      ]
    },
    {
      "cell_type": "markdown",
      "source": [
        "### Write the output to processed folder in parquet format"
      ],
      "metadata": {
        "id": "4tlZGkmlFnwE"
      }
    },
    {
      "cell_type": "code",
      "source": [
        "results_df.write.mode('overwrite').partitionBy('race_id').parquet('/content/formula1/data/processed/results')\n"
      ],
      "metadata": {
        "id": "9tb8375tFFVU"
      },
      "execution_count": 253,
      "outputs": []
    },
    {
      "cell_type": "code",
      "source": [
        "spark.read.parquet('/content/formula1/data/processed/results').show()"
      ],
      "metadata": {
        "colab": {
          "base_uri": "https://localhost:8080/"
        },
        "id": "-4BfWYc0GC0E",
        "outputId": "37138a0d-d0ba-47af-fa9e-b125b8b3f18d"
      },
      "execution_count": 254,
      "outputs": [
        {
          "output_type": "stream",
          "name": "stdout",
          "text": [
            "+---------+---------+--------------+------+----+--------+-------------+--------------+------+----+-----------+------------+-----------+----+----------------+-----------------+--------------------+-------+\n",
            "|result_id|driver_id|constructor_id|number|grid|position|position_text|position_order|points|laps|       time|milliseconds|fastest_lap|rank|fastest_lap_time|fastest_lap_speed|      ingestion_date|race_id|\n",
            "+---------+---------+--------------+------+----+--------+-------------+--------------+------+----+-----------+------------+-----------+----+----------------+-----------------+--------------------+-------+\n",
            "|    21544|       20|             9|     1|   3|       1|            1|             1|  25.0|  59|2:00:26.144|     7226144|         50|   3|        1:52.134|          162.865|2023-03-16 01:45:...|    873|\n",
            "|    21545|       18|             1|     3|   4|       2|            2|             2|  18.0|  59| +8.959 sec|     7235103|         47|   4|        1:52.625|          162.155|2023-03-16 01:45:...|    873|\n",
            "|    21546|        4|             6|     5|   5|       3|            3|             3|  15.0|  59|    +15.227|     7241371|         53|   5|        1:52.709|          162.034|2023-03-16 01:45:...|    873|\n",
            "|    21547|      814|            10|    11|   6|       4|            4|             4|  12.0|  59|    +19.063|     7245207|         54|   7|        1:52.931|          161.716|2023-03-16 01:45:...|    873|\n",
            "|    21548|        3|           131|     8|  10|       5|            5|             5|  10.0|  59|    +34.784|     7260928|         55|  12|        1:53.897|          160.344|2023-03-16 01:45:...|    873|\n",
            "|    21549|        8|           208|     9|  12|       6|            6|             6|   8.0|  59|    +35.759|     7261903|         53|  11|        1:53.785|          160.502|2023-03-16 01:45:...|    873|\n",
            "|    21550|      154|           208|    10|   8|       7|            7|             7|   6.0|  59|    +36.698|     7262842|         56|  14|        1:54.123|          160.027|2023-03-16 01:45:...|    873|\n",
            "|    21551|       13|             6|     6|  13|       8|            8|             8|   4.0|  59|    +42.829|     7268973|         47|  13|        1:53.997|          160.204|2023-03-16 01:45:...|    873|\n",
            "|    21552|      817|             5|    16|  15|       9|            9|             9|   2.0|  59|    +45.820|     7271964|         53|  15|        1:54.267|          159.825|2023-03-16 01:45:...|    873|\n",
            "|    21553|      815|            15|    15|  14|      10|           10|            10|   1.0|  59|    +50.619|     7276763|         51|   6|        1:52.778|          161.935|2023-03-16 01:45:...|    873|\n",
            "|    21554|       17|             9|     2|   7|      11|           11|            11|   0.0|  59|    +87.175|     7313319|         53|  10|        1:53.726|          160.585|2023-03-16 01:45:...|    873|\n",
            "|    21555|       10|           206|    24|  20|      12|           12|            12|   0.0|  59|    +91.918|     7318062|         30|  21|        1:56.057|           157.36|2023-03-16 01:45:...|    873|\n",
            "|    21556|      155|            15|    14|  17|      13|           13|            13|   0.0|  59|    +97.141|     7323285|         52|   2|        1:51.690|          163.513|2023-03-16 01:45:...|    873|\n",
            "|    21557|      807|            10|    12|  11|      14|           14|            14|   0.0|  59|    +99.413|     7325557|         52|   1|        1:51.033|           164.48|2023-03-16 01:45:...|    873|\n",
            "|    21558|        5|           207|    20|  19|      15|           15|            15|   0.0|  59|   +107.967|     7334111|         48|  18|        1:55.233|          158.485|2023-03-16 01:45:...|    873|\n",
            "|    21559|      819|           206|    25|  21|      16|           16|            16|   0.0|  59|   +132.925|     7359069|         37|  22|        1:56.486|          156.781|2023-03-16 01:45:...|    873|\n",
            "|    21560|       37|           164|    22|  24|      17|           17|            17|   0.0|  58|         \\N|        null|         48|  23|        1:57.671|          155.202|2023-03-16 01:45:...|    873|\n",
            "|    21561|      811|             3|    19|  22|      18|           18|            18|   0.0|  57|         \\N|        null|         27|   9|        1:53.610|          160.749|2023-03-16 01:45:...|    873|\n",
            "|    21562|      808|           207|    21|  18|      19|           19|            19|   0.0|  57|         \\N|        null|         44|  17|        1:55.140|          158.613|2023-03-16 01:45:...|    873|\n",
            "|    21563|      818|             5|    17|  16|    null|            R|            20|   0.0|  38|         \\N|        null|         28|   8|        1:53.510|          160.891|2023-03-16 01:45:...|    873|\n",
            "+---------+---------+--------------+------+----+--------+-------------+--------------+------+----+-----------+------------+-----------+----+----------------+-----------------+--------------------+-------+\n",
            "only showing top 20 rows\n",
            "\n"
          ]
        }
      ]
    },
    {
      "cell_type": "markdown",
      "source": [
        "## Ingest pitstops.json"
      ],
      "metadata": {
        "id": "DJm7rFGPGwTk"
      }
    },
    {
      "cell_type": "code",
      "source": [
        "from pyspark.sql.types import StructType, StructField, IntegerType, StringType"
      ],
      "metadata": {
        "id": "BgQbNkGmGKG0"
      },
      "execution_count": 255,
      "outputs": []
    },
    {
      "cell_type": "code",
      "source": [
        "pit_stops_schema = StructType(fields=[StructField(\"raceId\", IntegerType(), False),\n",
        "                                      StructField(\"driverId\", IntegerType(), True),\n",
        "                                      StructField(\"stop\", StringType(), True),\n",
        "                                      StructField(\"lap\", IntegerType(), True),\n",
        "                                      StructField(\"time\", StringType(), True),\n",
        "                                      StructField(\"duration\", StringType(), True),\n",
        "                                      StructField(\"milliseconds\", IntegerType(), True)\n",
        "                                     ])"
      ],
      "metadata": {
        "id": "tE8SMmWtHUYm"
      },
      "execution_count": 256,
      "outputs": []
    },
    {
      "cell_type": "code",
      "source": [
        "pit_stops_df = spark.read \\\n",
        ".schema(pit_stops_schema) \\\n",
        ".option('multiline', True) \\\n",
        ".json('/content/formula1/data/raw/pit_stops.json')"
      ],
      "metadata": {
        "id": "TlRglmlKHWeG"
      },
      "execution_count": 258,
      "outputs": []
    },
    {
      "cell_type": "markdown",
      "source": [
        "### Rename and add columns as required"
      ],
      "metadata": {
        "id": "9KOrVMQsH3Fm"
      }
    },
    {
      "cell_type": "code",
      "source": [
        "pit_stops_df = pit_stops_df.withColumnRenamed('raceId', 'race_id') \\\n",
        "                           .withColumnRenamed('driverId', 'driver_id')"
      ],
      "metadata": {
        "id": "eQJ4O5vFHp8V"
      },
      "execution_count": 259,
      "outputs": []
    },
    {
      "cell_type": "code",
      "source": [
        "pit_stops_df = pit_stops_df.withColumn('ingestion_date', current_timestamp())"
      ],
      "metadata": {
        "id": "Mn_ybx9wINNG"
      },
      "execution_count": 261,
      "outputs": []
    },
    {
      "cell_type": "code",
      "source": [
        "pit_stops_df.show()"
      ],
      "metadata": {
        "colab": {
          "base_uri": "https://localhost:8080/"
        },
        "id": "xdXZA6H1IYS-",
        "outputId": "f7ff8bec-31c4-41ed-dc17-83d1c04b66d0"
      },
      "execution_count": 262,
      "outputs": [
        {
          "output_type": "stream",
          "name": "stdout",
          "text": [
            "+-------+---------+----+---+--------+--------+------------+--------------------+\n",
            "|race_id|driver_id|stop|lap|    time|duration|milliseconds|      ingestion_date|\n",
            "+-------+---------+----+---+--------+--------+------------+--------------------+\n",
            "|    841|      153|   1|  1|17:05:23|  26.898|       26898|2023-03-16 01:56:...|\n",
            "|    841|       30|   1|  1|17:05:52|  25.021|       25021|2023-03-16 01:56:...|\n",
            "|    841|       17|   1| 11|17:20:48|  23.426|       23426|2023-03-16 01:56:...|\n",
            "|    841|        4|   1| 12|17:22:34|  23.251|       23251|2023-03-16 01:56:...|\n",
            "|    841|       13|   1| 13|17:24:10|  23.842|       23842|2023-03-16 01:56:...|\n",
            "|    841|       22|   1| 13|17:24:29|  23.643|       23643|2023-03-16 01:56:...|\n",
            "|    841|       20|   1| 14|17:25:17|  22.603|       22603|2023-03-16 01:56:...|\n",
            "|    841|      814|   1| 14|17:26:03|  24.863|       24863|2023-03-16 01:56:...|\n",
            "|    841|      816|   1| 14|17:26:50|  25.259|       25259|2023-03-16 01:56:...|\n",
            "|    841|       67|   1| 15|17:27:34|  25.342|       25342|2023-03-16 01:56:...|\n",
            "|    841|        2|   1| 15|17:27:41|  22.994|       22994|2023-03-16 01:56:...|\n",
            "|    841|        1|   1| 16|17:28:24|  23.227|       23227|2023-03-16 01:56:...|\n",
            "|    841|      808|   1| 16|17:28:39|  24.535|       24535|2023-03-16 01:56:...|\n",
            "|    841|        3|   1| 16|17:29:00|  23.716|       23716|2023-03-16 01:56:...|\n",
            "|    841|      155|   1| 16|17:29:06|  24.064|       24064|2023-03-16 01:56:...|\n",
            "|    841|       16|   1| 16|17:29:08|  25.978|       25978|2023-03-16 01:56:...|\n",
            "|    841|       15|   1| 16|17:29:49|  24.899|       24899|2023-03-16 01:56:...|\n",
            "|    841|       18|   1| 17|17:30:24|  16.867|       16867|2023-03-16 01:56:...|\n",
            "|    841|      153|   2| 17|17:31:06|  24.463|       24463|2023-03-16 01:56:...|\n",
            "|    841|        5|   1| 17|17:31:11|  24.865|       24865|2023-03-16 01:56:...|\n",
            "+-------+---------+----+---+--------+--------+------------+--------------------+\n",
            "only showing top 20 rows\n",
            "\n"
          ]
        }
      ]
    },
    {
      "cell_type": "markdown",
      "source": [
        "### Write the output to processed folder in parquet format"
      ],
      "metadata": {
        "id": "6UG1V5B8IlU9"
      }
    },
    {
      "cell_type": "code",
      "source": [
        "pit_stops_df.write.mode(\"overwrite\").parquet('/content/formula1/data/processed/pit_stops')"
      ],
      "metadata": {
        "id": "ngFa_eYhIg0G"
      },
      "execution_count": 267,
      "outputs": []
    },
    {
      "cell_type": "code",
      "source": [
        "spark.read.parquet('/content/formula1/data/processed/pit_stops').show()"
      ],
      "metadata": {
        "colab": {
          "base_uri": "https://localhost:8080/"
        },
        "id": "nrl2_p4oI1W-",
        "outputId": "767e665d-9194-42a9-8afd-fc1cdd9673e8"
      },
      "execution_count": 268,
      "outputs": [
        {
          "output_type": "stream",
          "name": "stdout",
          "text": [
            "+-------+---------+----+---+--------+--------+------------+--------------------+\n",
            "|race_id|driver_id|stop|lap|    time|duration|milliseconds|      ingestion_date|\n",
            "+-------+---------+----+---+--------+--------+------------+--------------------+\n",
            "|    841|      153|   1|  1|17:05:23|  26.898|       26898|2023-03-16 02:00:...|\n",
            "|    841|       30|   1|  1|17:05:52|  25.021|       25021|2023-03-16 02:00:...|\n",
            "|    841|       17|   1| 11|17:20:48|  23.426|       23426|2023-03-16 02:00:...|\n",
            "|    841|        4|   1| 12|17:22:34|  23.251|       23251|2023-03-16 02:00:...|\n",
            "|    841|       13|   1| 13|17:24:10|  23.842|       23842|2023-03-16 02:00:...|\n",
            "|    841|       22|   1| 13|17:24:29|  23.643|       23643|2023-03-16 02:00:...|\n",
            "|    841|       20|   1| 14|17:25:17|  22.603|       22603|2023-03-16 02:00:...|\n",
            "|    841|      814|   1| 14|17:26:03|  24.863|       24863|2023-03-16 02:00:...|\n",
            "|    841|      816|   1| 14|17:26:50|  25.259|       25259|2023-03-16 02:00:...|\n",
            "|    841|       67|   1| 15|17:27:34|  25.342|       25342|2023-03-16 02:00:...|\n",
            "|    841|        2|   1| 15|17:27:41|  22.994|       22994|2023-03-16 02:00:...|\n",
            "|    841|        1|   1| 16|17:28:24|  23.227|       23227|2023-03-16 02:00:...|\n",
            "|    841|      808|   1| 16|17:28:39|  24.535|       24535|2023-03-16 02:00:...|\n",
            "|    841|        3|   1| 16|17:29:00|  23.716|       23716|2023-03-16 02:00:...|\n",
            "|    841|      155|   1| 16|17:29:06|  24.064|       24064|2023-03-16 02:00:...|\n",
            "|    841|       16|   1| 16|17:29:08|  25.978|       25978|2023-03-16 02:00:...|\n",
            "|    841|       15|   1| 16|17:29:49|  24.899|       24899|2023-03-16 02:00:...|\n",
            "|    841|       18|   1| 17|17:30:24|  16.867|       16867|2023-03-16 02:00:...|\n",
            "|    841|      153|   2| 17|17:31:06|  24.463|       24463|2023-03-16 02:00:...|\n",
            "|    841|        5|   1| 17|17:31:11|  24.865|       24865|2023-03-16 02:00:...|\n",
            "+-------+---------+----+---+--------+--------+------------+--------------------+\n",
            "only showing top 20 rows\n",
            "\n"
          ]
        }
      ]
    }
  ]
}